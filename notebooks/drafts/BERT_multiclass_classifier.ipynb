{
 "cells": [
  {
   "cell_type": "code",
   "execution_count": 112,
   "metadata": {},
   "outputs": [],
   "source": [
    "import os\n",
    "import pandas as pd\n",
    "import torch\n",
    "from torch.utils.data import Dataset, DataLoader\n",
    "from transformers import DistilBertTokenizer, DistilBertForSequenceClassification, AdamW\n",
    "from transformers import get_linear_schedule_with_warmup\n",
    "from tqdm import tqdm"
   ]
  },
  {
   "cell_type": "code",
   "execution_count": 113,
   "metadata": {},
   "outputs": [],
   "source": [
    "# Load data\n",
    "dataset = pd.read_csv(\"jigsaw-toxic-comment-train.csv\")\n"
   ]
  },
  {
   "cell_type": "code",
   "execution_count": 114,
   "metadata": {},
   "outputs": [
    {
     "data": {
      "text/plain": [
       "(223549, 8)"
      ]
     },
     "execution_count": 114,
     "metadata": {},
     "output_type": "execute_result"
    }
   ],
   "source": [
    "dataset.shape"
   ]
  },
  {
   "cell_type": "code",
   "execution_count": 115,
   "metadata": {},
   "outputs": [],
   "source": [
    "classes = ['toxic', 'severe_toxic', 'obscene', 'threat', 'insult', 'identity_hate','neutral']"
   ]
  },
  {
   "cell_type": "code",
   "execution_count": 116,
   "metadata": {},
   "outputs": [],
   "source": [
    "dataset['neutral'] = ((dataset[['toxic', 'severe_toxic', 'obscene', 'threat', 'insult', 'identity_hate']].sum(axis=1) == 0).astype(int))"
   ]
  },
  {
   "cell_type": "code",
   "execution_count": 117,
   "metadata": {},
   "outputs": [
    {
     "data": {
      "text/html": [
       "<div>\n",
       "<style scoped>\n",
       "    .dataframe tbody tr th:only-of-type {\n",
       "        vertical-align: middle;\n",
       "    }\n",
       "\n",
       "    .dataframe tbody tr th {\n",
       "        vertical-align: top;\n",
       "    }\n",
       "\n",
       "    .dataframe thead th {\n",
       "        text-align: right;\n",
       "    }\n",
       "</style>\n",
       "<table border=\"1\" class=\"dataframe\">\n",
       "  <thead>\n",
       "    <tr style=\"text-align: right;\">\n",
       "      <th></th>\n",
       "      <th>id</th>\n",
       "      <th>comment_text</th>\n",
       "      <th>toxic</th>\n",
       "      <th>severe_toxic</th>\n",
       "      <th>obscene</th>\n",
       "      <th>threat</th>\n",
       "      <th>insult</th>\n",
       "      <th>identity_hate</th>\n",
       "      <th>neutral</th>\n",
       "    </tr>\n",
       "  </thead>\n",
       "  <tbody>\n",
       "    <tr>\n",
       "      <th>0</th>\n",
       "      <td>0000997932d777bf</td>\n",
       "      <td>Explanation\\nWhy the edits made under my usern...</td>\n",
       "      <td>0</td>\n",
       "      <td>0</td>\n",
       "      <td>0</td>\n",
       "      <td>0</td>\n",
       "      <td>0</td>\n",
       "      <td>0</td>\n",
       "      <td>1</td>\n",
       "    </tr>\n",
       "    <tr>\n",
       "      <th>1</th>\n",
       "      <td>000103f0d9cfb60f</td>\n",
       "      <td>D'aww! He matches this background colour I'm s...</td>\n",
       "      <td>0</td>\n",
       "      <td>0</td>\n",
       "      <td>0</td>\n",
       "      <td>0</td>\n",
       "      <td>0</td>\n",
       "      <td>0</td>\n",
       "      <td>1</td>\n",
       "    </tr>\n",
       "    <tr>\n",
       "      <th>2</th>\n",
       "      <td>000113f07ec002fd</td>\n",
       "      <td>Hey man, I'm really not trying to edit war. It...</td>\n",
       "      <td>0</td>\n",
       "      <td>0</td>\n",
       "      <td>0</td>\n",
       "      <td>0</td>\n",
       "      <td>0</td>\n",
       "      <td>0</td>\n",
       "      <td>1</td>\n",
       "    </tr>\n",
       "    <tr>\n",
       "      <th>3</th>\n",
       "      <td>0001b41b1c6bb37e</td>\n",
       "      <td>\"\\nMore\\nI can't make any real suggestions on ...</td>\n",
       "      <td>0</td>\n",
       "      <td>0</td>\n",
       "      <td>0</td>\n",
       "      <td>0</td>\n",
       "      <td>0</td>\n",
       "      <td>0</td>\n",
       "      <td>1</td>\n",
       "    </tr>\n",
       "    <tr>\n",
       "      <th>4</th>\n",
       "      <td>0001d958c54c6e35</td>\n",
       "      <td>You, sir, are my hero. Any chance you remember...</td>\n",
       "      <td>0</td>\n",
       "      <td>0</td>\n",
       "      <td>0</td>\n",
       "      <td>0</td>\n",
       "      <td>0</td>\n",
       "      <td>0</td>\n",
       "      <td>1</td>\n",
       "    </tr>\n",
       "    <tr>\n",
       "      <th>...</th>\n",
       "      <td>...</td>\n",
       "      <td>...</td>\n",
       "      <td>...</td>\n",
       "      <td>...</td>\n",
       "      <td>...</td>\n",
       "      <td>...</td>\n",
       "      <td>...</td>\n",
       "      <td>...</td>\n",
       "      <td>...</td>\n",
       "    </tr>\n",
       "    <tr>\n",
       "      <th>223544</th>\n",
       "      <td>fff8f64043129fa2</td>\n",
       "      <td>:Jerome, I see you never got around to this…! ...</td>\n",
       "      <td>0</td>\n",
       "      <td>0</td>\n",
       "      <td>0</td>\n",
       "      <td>0</td>\n",
       "      <td>0</td>\n",
       "      <td>0</td>\n",
       "      <td>1</td>\n",
       "    </tr>\n",
       "    <tr>\n",
       "      <th>223545</th>\n",
       "      <td>fff9d70fe0722906</td>\n",
       "      <td>==Lucky bastard== \\n http://wikimediafoundatio...</td>\n",
       "      <td>0</td>\n",
       "      <td>0</td>\n",
       "      <td>0</td>\n",
       "      <td>0</td>\n",
       "      <td>0</td>\n",
       "      <td>0</td>\n",
       "      <td>1</td>\n",
       "    </tr>\n",
       "    <tr>\n",
       "      <th>223546</th>\n",
       "      <td>fffa8a11c4378854</td>\n",
       "      <td>==shame on you all!!!== \\n\\n You want to speak...</td>\n",
       "      <td>0</td>\n",
       "      <td>0</td>\n",
       "      <td>0</td>\n",
       "      <td>0</td>\n",
       "      <td>0</td>\n",
       "      <td>0</td>\n",
       "      <td>1</td>\n",
       "    </tr>\n",
       "    <tr>\n",
       "      <th>223547</th>\n",
       "      <td>fffac2a094c8e0e2</td>\n",
       "      <td>MEL GIBSON IS A NAZI BITCH WHO MAKES SHITTY MO...</td>\n",
       "      <td>1</td>\n",
       "      <td>0</td>\n",
       "      <td>1</td>\n",
       "      <td>0</td>\n",
       "      <td>1</td>\n",
       "      <td>0</td>\n",
       "      <td>0</td>\n",
       "    </tr>\n",
       "    <tr>\n",
       "      <th>223548</th>\n",
       "      <td>fffb5451268fb5ba</td>\n",
       "      <td>\" \\n\\n == Unicorn lair discovery == \\n\\n Suppo...</td>\n",
       "      <td>0</td>\n",
       "      <td>0</td>\n",
       "      <td>0</td>\n",
       "      <td>0</td>\n",
       "      <td>0</td>\n",
       "      <td>0</td>\n",
       "      <td>1</td>\n",
       "    </tr>\n",
       "  </tbody>\n",
       "</table>\n",
       "<p>223549 rows × 9 columns</p>\n",
       "</div>"
      ],
      "text/plain": [
       "                      id                                       comment_text  \\\n",
       "0       0000997932d777bf  Explanation\\nWhy the edits made under my usern...   \n",
       "1       000103f0d9cfb60f  D'aww! He matches this background colour I'm s...   \n",
       "2       000113f07ec002fd  Hey man, I'm really not trying to edit war. It...   \n",
       "3       0001b41b1c6bb37e  \"\\nMore\\nI can't make any real suggestions on ...   \n",
       "4       0001d958c54c6e35  You, sir, are my hero. Any chance you remember...   \n",
       "...                  ...                                                ...   \n",
       "223544  fff8f64043129fa2  :Jerome, I see you never got around to this…! ...   \n",
       "223545  fff9d70fe0722906  ==Lucky bastard== \\n http://wikimediafoundatio...   \n",
       "223546  fffa8a11c4378854  ==shame on you all!!!== \\n\\n You want to speak...   \n",
       "223547  fffac2a094c8e0e2  MEL GIBSON IS A NAZI BITCH WHO MAKES SHITTY MO...   \n",
       "223548  fffb5451268fb5ba  \" \\n\\n == Unicorn lair discovery == \\n\\n Suppo...   \n",
       "\n",
       "        toxic  severe_toxic  obscene  threat  insult  identity_hate  neutral  \n",
       "0           0             0        0       0       0              0        1  \n",
       "1           0             0        0       0       0              0        1  \n",
       "2           0             0        0       0       0              0        1  \n",
       "3           0             0        0       0       0              0        1  \n",
       "4           0             0        0       0       0              0        1  \n",
       "...       ...           ...      ...     ...     ...            ...      ...  \n",
       "223544      0             0        0       0       0              0        1  \n",
       "223545      0             0        0       0       0              0        1  \n",
       "223546      0             0        0       0       0              0        1  \n",
       "223547      1             0        1       0       1              0        0  \n",
       "223548      0             0        0       0       0              0        1  \n",
       "\n",
       "[223549 rows x 9 columns]"
      ]
     },
     "execution_count": 117,
     "metadata": {},
     "output_type": "execute_result"
    }
   ],
   "source": [
    "dataset"
   ]
  },
  {
   "cell_type": "code",
   "execution_count": 118,
   "metadata": {},
   "outputs": [
    {
     "name": "stdout",
     "output_type": "stream",
     "text": [
      "toxic             21384\n",
      "severe_toxic       1962\n",
      "obscene           12140\n",
      "threat              689\n",
      "insult            11304\n",
      "identity_hate      2117\n",
      "neutral          201081\n",
      "dtype: int64\n"
     ]
    }
   ],
   "source": [
    "class_counts = dataset[classes].sum()\n",
    "print(class_counts)"
   ]
  },
  {
   "cell_type": "code",
   "execution_count": 119,
   "metadata": {},
   "outputs": [],
   "source": [
    "import pandas as pd\n",
    "\n",
    "# Assuming 'dataset' is your original DataFrame and 'classes' is a list of class column names\n",
    "df = pd.DataFrame()\n",
    "\n",
    "for cls in classes:\n",
    "    # Count the number of entries in the current class\n",
    "    count = dataset[dataset[cls] == 1].shape[0]\n",
    "    \n",
    "    \n",
    "    if count > 1500:\n",
    "        # Sample 1500 rows if the class has more than 1500 entries\n",
    "        sampled_class = dataset[dataset[cls] == 1].sample(n=1500, random_state=42)\n",
    "    else:\n",
    "        # Keep all rows if the class has 1500 or fewer entries\n",
    "        sampled_class = dataset[dataset[cls] == 1]\n",
    "    \n",
    "    # Concatenate the sampled (or original) class data to the final DataFrame\n",
    "    df = pd.concat([df, sampled_class])\n",
    "\n",
    "# Reset the index of the resulting DataFrame\n",
    "df.reset_index(drop=True, inplace=True)\n"
   ]
  },
  {
   "cell_type": "code",
   "execution_count": 120,
   "metadata": {},
   "outputs": [],
   "source": [
    "from sklearn.model_selection import train_test_split\n",
    "X = pd.DataFrame(df['comment_text'])\n",
    "y = pd.DataFrame(df[classes])\n",
    "X_train,X_eval_test,y_train,y_eval_test = train_test_split(X,y,test_size = 0.5,random_state=42)\n",
    "X_val,X_test,y_val,y_test = train_test_split(X_eval_test,y_eval_test,test_size=0.5,random_state=42)"
   ]
  },
  {
   "cell_type": "code",
   "execution_count": 121,
   "metadata": {},
   "outputs": [
    {
     "name": "stdout",
     "output_type": "stream",
     "text": [
      "<class 'pandas.core.frame.DataFrame'>\n"
     ]
    }
   ],
   "source": [
    "print(type(X_train))  # <class 'pandas.core.frame.DataFrame'>\n"
   ]
  },
  {
   "cell_type": "code",
   "execution_count": 122,
   "metadata": {},
   "outputs": [
    {
     "data": {
      "text/plain": [
       "(2423, 1)"
      ]
     },
     "execution_count": 122,
     "metadata": {},
     "output_type": "execute_result"
    }
   ],
   "source": [
    "X_test.shape"
   ]
  },
  {
   "cell_type": "code",
   "execution_count": 123,
   "metadata": {},
   "outputs": [],
   "source": [
    "# Load the tokenizer\n",
    "tokenizer = DistilBertTokenizer.from_pretrained('distilbert-base-multilingual-cased')"
   ]
  },
  {
   "cell_type": "code",
   "execution_count": 124,
   "metadata": {},
   "outputs": [],
   "source": [
    "# Tokenization function using Hugging Face tokenizer\n",
    "def encode_texts(texts, tokenizer, maxlen=512):\n",
    "    return tokenizer(\n",
    "        texts.tolist(),\n",
    "        padding=True,\n",
    "        truncation=True,\n",
    "        max_length=maxlen,\n",
    "        return_tensors='pt'\n",
    "    )\n"
   ]
  },
  {
   "cell_type": "code",
   "execution_count": 125,
   "metadata": {},
   "outputs": [
    {
     "data": {
      "text/plain": [
       "Index(['comment_text'], dtype='object')"
      ]
     },
     "execution_count": 125,
     "metadata": {},
     "output_type": "execute_result"
    }
   ],
   "source": [
    "X_test.columns"
   ]
  },
  {
   "cell_type": "code",
   "execution_count": 126,
   "metadata": {},
   "outputs": [],
   "source": [
    "# Encode datasets\n",
    "x_train = encode_texts(X_train.comment_text.astype(str), tokenizer, maxlen=192)\n",
    "x_valid = encode_texts(X_val.comment_text.astype(str), tokenizer, maxlen=192)\n",
    "x_test = encode_texts(X_test.comment_text.astype(str), tokenizer, maxlen=192)"
   ]
  },
  {
   "cell_type": "code",
   "execution_count": 152,
   "metadata": {},
   "outputs": [
    {
     "ename": "IndexError",
     "evalue": "too many indices for tensor of dimension 1",
     "output_type": "error",
     "traceback": [
      "\u001b[1;31m---------------------------------------------------------------------------\u001b[0m",
      "\u001b[1;31mIndexError\u001b[0m                                Traceback (most recent call last)",
      "Cell \u001b[1;32mIn[152], line 1\u001b[0m\n\u001b[1;32m----> 1\u001b[0m y_train \u001b[38;5;241m=\u001b[39m torch\u001b[38;5;241m.\u001b[39mtensor(\u001b[43my_train\u001b[49m\u001b[43m[\u001b[49m\u001b[43mclasses\u001b[49m\u001b[43m]\u001b[49m\u001b[38;5;241m.\u001b[39mvalues)\n\u001b[0;32m      2\u001b[0m y_valid \u001b[38;5;241m=\u001b[39m torch\u001b[38;5;241m.\u001b[39mtensor(y_val[classes]\u001b[38;5;241m.\u001b[39mvalues)\n\u001b[0;32m      3\u001b[0m \u001b[38;5;66;03m# y_train = torch.tensor()\u001b[39;00m\n",
      "\u001b[1;31mIndexError\u001b[0m: too many indices for tensor of dimension 1"
     ]
    }
   ],
   "source": [
    "y_train = torch.tensor(y_train[classes].values)\n",
    "y_valid = torch.tensor(y_val[classes].values)\n",
    "# y_train = torch.tensor()"
   ]
  },
  {
   "cell_type": "code",
   "execution_count": 144,
   "metadata": {},
   "outputs": [
    {
     "data": {
      "text/plain": [
       "{'input_ids': tensor([[  101,   117, 12174,  ...,     0,     0,     0],\n",
       "        [  101, 93951, 10230,  ...,     0,     0,     0],\n",
       "        [  101, 10747, 29115,  ...,     0,     0,     0],\n",
       "        ...,\n",
       "        [  101,   107, 11005,  ...,     0,     0,     0],\n",
       "        [  101, 26092, 11170,  ...,     0,     0,     0],\n",
       "        [  101,   107,   131,  ...,     0,     0,     0]]), 'attention_mask': tensor([[1, 1, 1,  ..., 0, 0, 0],\n",
       "        [1, 1, 1,  ..., 0, 0, 0],\n",
       "        [1, 1, 1,  ..., 0, 0, 0],\n",
       "        ...,\n",
       "        [1, 1, 1,  ..., 0, 0, 0],\n",
       "        [1, 1, 1,  ..., 0, 0, 0],\n",
       "        [1, 1, 1,  ..., 0, 0, 0]])}"
      ]
     },
     "execution_count": 144,
     "metadata": {},
     "output_type": "execute_result"
    }
   ],
   "source": [
    "x_test"
   ]
  },
  {
   "cell_type": "code",
   "execution_count": 128,
   "metadata": {},
   "outputs": [],
   "source": [
    "# Custom dataset class\n",
    "class ToxicCommentsDataset(Dataset):\n",
    "    def __init__(self, encodings, labels=None):\n",
    "        self.encodings = encodings\n",
    "        self.labels = labels\n",
    "\n",
    "    def __getitem__(self, idx):\n",
    "        item = {key: val[idx] for key, val in self.encodings.items()}\n",
    "        if self.labels is not None:\n",
    "            item['labels'] = self.labels[idx]\n",
    "        return item\n",
    "\n",
    "    def __len__(self):\n",
    "        return len(self.labels)"
   ]
  },
  {
   "cell_type": "code",
   "execution_count": 149,
   "metadata": {},
   "outputs": [],
   "source": [
    "# Dataset and Dataloader\n",
    "train_dataset = ToxicCommentsDataset(x_train, y_train)\n",
    "valid_dataset = ToxicCommentsDataset(x_valid, y_valid)\n",
    "\n",
    "\n",
    "train_loader = DataLoader(train_dataset, batch_size=16)  # Try reducing batch size\n",
    "valid_loader = DataLoader(valid_dataset, batch_size=16)\n",
    "test_loader = DataLoader(test_dataset, batch_size=16)"
   ]
  },
  {
   "cell_type": "code",
   "execution_count": 153,
   "metadata": {},
   "outputs": [
    {
     "data": {
      "text/plain": [
       "['toxic',\n",
       " 'severe_toxic',\n",
       " 'obscene',\n",
       " 'threat',\n",
       " 'insult',\n",
       " 'identity_hate',\n",
       " 'neutral']"
      ]
     },
     "execution_count": 153,
     "metadata": {},
     "output_type": "execute_result"
    }
   ],
   "source": [
    "classes"
   ]
  },
  {
   "cell_type": "code",
   "execution_count": 154,
   "metadata": {},
   "outputs": [],
   "source": [
    "final_classes = ['Dangerous','Potentially dangerous','Neutral']"
   ]
  },
  {
   "cell_type": "code",
   "execution_count": null,
   "metadata": {},
   "outputs": [],
   "source": []
  },
  {
   "cell_type": "code",
   "execution_count": 132,
   "metadata": {},
   "outputs": [
    {
     "name": "stderr",
     "output_type": "stream",
     "text": [
      "d:\\ML\\Intel\\.conda\\Lib\\site-packages\\transformers\\optimization.py:591: FutureWarning: This implementation of AdamW is deprecated and will be removed in a future version. Use the PyTorch implementation torch.optim.AdamW instead, or set `no_deprecation_warning=True` to disable this warning\n",
      "  warnings.warn(\n"
     ]
    }
   ],
   "source": [
    "# Optimizer and Scheduler\n",
    "optimizer = AdamW(model.parameters(), lr=1e-5)\n",
    "total_steps = len(train_loader) * 3  \n",
    "scheduler = get_linear_schedule_with_warmup(optimizer, \n",
    "                                            num_warmup_steps=0, \n",
    "                                            num_training_steps=total_steps)\n",
    "\n",
    "# Loss function\n",
    "loss_fn = torch.nn.BCEWithLogitsLoss()"
   ]
  },
  {
   "cell_type": "code",
   "execution_count": 133,
   "metadata": {},
   "outputs": [],
   "source": [
    "# Training loop\n",
    "def train_epoch(model, dataloader, optimizer, device, scheduler):\n",
    "    model.train()\n",
    "    total_loss = 0\n",
    "    correct_predictions = 0\n",
    "    \n",
    "    for batch in tqdm(dataloader):\n",
    "        optimizer.zero_grad()\n",
    "\n",
    "        input_ids = batch['input_ids'].to(device)\n",
    "        attention_mask = batch['attention_mask'].to(device)\n",
    "        labels = batch['labels'].unsqueeze(1).float().to(device)\n",
    "        \n",
    "        outputs = model(input_ids, attention_mask=attention_mask)\n",
    "        loss = loss_fn(outputs.logits, labels)\n",
    "        total_loss += loss.item()\n",
    "        \n",
    "        loss.backward()\n",
    "        optimizer.step()\n",
    "        scheduler.step()\n",
    "\n",
    "    avg_loss = total_loss / len(dataloader)\n",
    "    return avg_loss"
   ]
  },
  {
   "cell_type": "code",
   "execution_count": 138,
   "metadata": {},
   "outputs": [],
   "source": [
    "def eval_model(model, dataloader, device):\n",
    "    model.eval()\n",
    "    total_loss = 0\n",
    "    correct_predictions = 0\n",
    "    total_samples = 0\n",
    "\n",
    "    with torch.no_grad():\n",
    "        for batch in dataloader:\n",
    "            input_ids = batch['input_ids'].to(device)\n",
    "            attention_mask = batch['attention_mask'].to(device)\n",
    "            labels = batch['labels'].unsqueeze(1).float().to(device)  # Assuming binary classification\n",
    "            \n",
    "            outputs = model(input_ids, attention_mask=attention_mask)\n",
    "            loss = loss_fn(outputs.logits, labels)\n",
    "            total_loss += loss.item()\n",
    "\n",
    "            # Binary classification: Get predicted class (0 or 1) by applying a threshold of 0.5\n",
    "            preds = torch.sigmoid(outputs.logits)\n",
    "            preds = (preds > 0.5).float()  # Convert to 0 or 1 based on threshold\n",
    "\n",
    "            # Calculate the number of correct predictions\n",
    "            correct_predictions += (preds == labels).sum().item()\n",
    "            total_samples += labels.size(0)  # Count total samples\n",
    "\n",
    "    avg_loss = total_loss / len(dataloader)\n",
    "    accuracy = correct_predictions / total_samples  # Calculate accuracy\n",
    "    return avg_loss, accuracy"
   ]
  },
  {
   "cell_type": "code",
   "execution_count": 140,
   "metadata": {},
   "outputs": [
    {
     "name": "stdout",
     "output_type": "stream",
     "text": [
      "Epoch 1/5\n"
     ]
    },
    {
     "name": "stderr",
     "output_type": "stream",
     "text": [
      "100%|██████████| 303/303 [21:44<00:00,  4.31s/it]\n"
     ]
    },
    {
     "name": "stdout",
     "output_type": "stream",
     "text": [
      "Train Loss: 0.1211324416549735, Validation Loss: 0.20373806166830227, Validation Accuracy: 0.93\n",
      "Best model saved based on Validation Loss: 0.2037\n",
      "Best model saved based on Validation Accuracy: 0.9315\n",
      "Epoch 2/5\n"
     ]
    },
    {
     "name": "stderr",
     "output_type": "stream",
     "text": [
      "100%|██████████| 303/303 [26:30<00:00,  5.25s/it]\n"
     ]
    },
    {
     "name": "stdout",
     "output_type": "stream",
     "text": [
      "Train Loss: 0.11140237292797357, Validation Loss: 0.20373806166830227, Validation Accuracy: 0.93\n",
      "Epoch 3/5\n"
     ]
    },
    {
     "name": "stderr",
     "output_type": "stream",
     "text": [
      "100%|██████████| 303/303 [16:33<00:00,  3.28s/it]\n"
     ]
    },
    {
     "name": "stdout",
     "output_type": "stream",
     "text": [
      "Train Loss: 0.10999113157170244, Validation Loss: 0.20373806166830227, Validation Accuracy: 0.93\n",
      "Epoch 4/5\n"
     ]
    },
    {
     "name": "stderr",
     "output_type": "stream",
     "text": [
      "100%|██████████| 303/303 [16:27<00:00,  3.26s/it]\n"
     ]
    },
    {
     "name": "stdout",
     "output_type": "stream",
     "text": [
      "Train Loss: 0.11153200930506975, Validation Loss: 0.20373806166830227, Validation Accuracy: 0.93\n",
      "Epoch 5/5\n"
     ]
    },
    {
     "name": "stderr",
     "output_type": "stream",
     "text": [
      "100%|██████████| 303/303 [16:23<00:00,  3.25s/it]\n"
     ]
    },
    {
     "name": "stdout",
     "output_type": "stream",
     "text": [
      "Train Loss: 0.11123406970658319, Validation Loss: 0.20373806166830227, Validation Accuracy: 0.93\n"
     ]
    }
   ],
   "source": [
    "# Assuming your training loop is already defined as you provided\n",
    "epochs = 5\n",
    "best_val_loss = float('inf')  # Initialize best validation loss to infinity\n",
    "best_val_accuracy = 0.0  # Initialize best validation accuracy to 0\n",
    "\n",
    "for epoch in range(epochs):\n",
    "    print(f\"Epoch {epoch + 1}/{epochs}\")\n",
    "    train_loss = train_epoch(model, train_loader, optimizer, device, scheduler)\n",
    "    \n",
    "    # Ensure that eval_model only returns two values\n",
    "    val_loss, val_accuracy = eval_model(model, valid_loader, device)  \n",
    "    \n",
    "    print(f\"Train Loss: {train_loss}, Validation Loss: {val_loss}, Validation Accuracy: {val_accuracy:.2f}\")\n",
    "\n",
    "    if val_loss < best_val_loss:\n",
    "        best_val_loss = val_loss\n",
    "        torch.save(model.state_dict(), 'best_model_loss.pth')  \n",
    "        print(f\"Best model saved based on Validation Loss: {val_loss:.4f}\")\n",
    "\n",
    "    if val_accuracy > best_val_accuracy:\n",
    "        best_val_accuracy = val_accuracy\n",
    "        torch.save(model.state_dict(), 'best_model_accuracy.pth')\n",
    "        print(f\"Best model saved based on Validation Accuracy: {val_accuracy:.4f}\")\n"
   ]
  },
  {
   "cell_type": "code",
   "execution_count": 63,
   "metadata": {},
   "outputs": [],
   "source": [
    "x_test = encode_texts(test1.content.astype(str), tokenizer, maxlen=192)"
   ]
  },
  {
   "cell_type": "code",
   "execution_count": null,
   "metadata": {},
   "outputs": [],
   "source": [
    "model = model.load_state_dict(torch.load('best_model_loss.pth')) "
   ]
  },
  {
   "cell_type": "code",
   "execution_count": 150,
   "metadata": {},
   "outputs": [
    {
     "name": "stdout",
     "output_type": "stream",
     "text": [
      "[array([0.956714], dtype=float32), array([0.99281996], dtype=float32), array([0.9915987], dtype=float32), array([0.92225295], dtype=float32), array([0.9618363], dtype=float32), array([0.9905128], dtype=float32), array([0.58998233], dtype=float32), array([0.9800613], dtype=float32), array([0.97308445], dtype=float32), array([0.9924408], dtype=float32), array([0.0249439], dtype=float32), array([0.96982175], dtype=float32), array([0.9376915], dtype=float32), array([0.03353335], dtype=float32), array([0.98062253], dtype=float32), array([0.988605], dtype=float32), array([0.9896611], dtype=float32), array([0.02527755], dtype=float32), array([0.9911299], dtype=float32), array([0.99237263], dtype=float32), array([0.5480378], dtype=float32), array([0.1311955], dtype=float32), array([0.9895978], dtype=float32), array([0.9877571], dtype=float32), array([0.0318653], dtype=float32), array([0.98345727], dtype=float32), array([0.97909385], dtype=float32), array([0.8360187], dtype=float32), array([0.02747571], dtype=float32), array([0.02560513], dtype=float32), array([0.9872584], dtype=float32), array([0.9814835], dtype=float32), array([0.9912896], dtype=float32), array([0.9877471], dtype=float32), array([0.9898449], dtype=float32), array([0.7880402], dtype=float32), array([0.99211085], dtype=float32), array([0.9896814], dtype=float32), array([0.95928264], dtype=float32), array([0.9915017], dtype=float32), array([0.97705597], dtype=float32), array([0.99189067], dtype=float32), array([0.98698956], dtype=float32), array([0.8300517], dtype=float32), array([0.99108034], dtype=float32), array([0.9468225], dtype=float32), array([0.98910797], dtype=float32), array([0.9900068], dtype=float32), array([0.9827663], dtype=float32), array([0.988436], dtype=float32), array([0.9557416], dtype=float32), array([0.9919592], dtype=float32), array([0.9897855], dtype=float32), array([0.9842726], dtype=float32), array([0.98970747], dtype=float32), array([0.99204004], dtype=float32), array([0.60155755], dtype=float32), array([0.9914665], dtype=float32), array([0.91306], dtype=float32), array([0.97452635], dtype=float32), array([0.9907872], dtype=float32), array([0.9902891], dtype=float32), array([0.98806274], dtype=float32), array([0.9721781], dtype=float32), array([0.9449741], dtype=float32), array([0.9918609], dtype=float32), array([0.9281968], dtype=float32), array([0.8923827], dtype=float32), array([0.9921732], dtype=float32), array([0.02380655], dtype=float32), array([0.9886678], dtype=float32), array([0.9128163], dtype=float32), array([0.97748464], dtype=float32), array([0.91387576], dtype=float32), array([0.99254495], dtype=float32), array([0.98875463], dtype=float32), array([0.9766382], dtype=float32), array([0.91470456], dtype=float32), array([0.9125211], dtype=float32), array([0.9817192], dtype=float32), array([0.99167705], dtype=float32), array([0.02919635], dtype=float32), array([0.22153758], dtype=float32), array([0.9815594], dtype=float32), array([0.98912084], dtype=float32), array([0.10098453], dtype=float32), array([0.9904694], dtype=float32), array([0.98797685], dtype=float32), array([0.9916298], dtype=float32), array([0.9642024], dtype=float32), array([0.98040134], dtype=float32), array([0.98123115], dtype=float32), array([0.98964256], dtype=float32), array([0.97365904], dtype=float32), array([0.99242836], dtype=float32), array([0.95246255], dtype=float32), array([0.04053549], dtype=float32), array([0.02838538], dtype=float32), array([0.99269956], dtype=float32), array([0.98905087], dtype=float32), array([0.99226755], dtype=float32), array([0.99222285], dtype=float32), array([0.9888459], dtype=float32), array([0.98928773], dtype=float32), array([0.95394695], dtype=float32), array([0.9869882], dtype=float32), array([0.9885655], dtype=float32), array([0.9924003], dtype=float32), array([0.98276454], dtype=float32), array([0.9882891], dtype=float32), array([0.9895392], dtype=float32), array([0.5035765], dtype=float32), array([0.99002457], dtype=float32), array([0.9903956], dtype=float32), array([0.9914761], dtype=float32), array([0.99106455], dtype=float32), array([0.16944884], dtype=float32), array([0.9915799], dtype=float32), array([0.9730104], dtype=float32), array([0.9843248], dtype=float32), array([0.7565514], dtype=float32), array([0.99013674], dtype=float32), array([0.05888482], dtype=float32), array([0.98922837], dtype=float32), array([0.9923861], dtype=float32), array([0.9815925], dtype=float32), array([0.99143666], dtype=float32), array([0.97801125], dtype=float32), array([0.02473943], dtype=float32), array([0.9925055], dtype=float32), array([0.97121745], dtype=float32), array([0.9906042], dtype=float32), array([0.9894499], dtype=float32), array([0.93121356], dtype=float32), array([0.8491196], dtype=float32), array([0.9843865], dtype=float32), array([0.99210817], dtype=float32), array([0.988518], dtype=float32), array([0.9784782], dtype=float32), array([0.992415], dtype=float32), array([0.02653248], dtype=float32), array([0.77296084], dtype=float32), array([0.98450667], dtype=float32), array([0.6329717], dtype=float32), array([0.95229506], dtype=float32), array([0.9917052], dtype=float32), array([0.94647413], dtype=float32), array([0.99214303], dtype=float32), array([0.986666], dtype=float32), array([0.991121], dtype=float32), array([0.76443326], dtype=float32), array([0.03653857], dtype=float32), array([0.9911833], dtype=float32), array([0.7820242], dtype=float32), array([0.9804097], dtype=float32), array([0.98905504], dtype=float32), array([0.9676702], dtype=float32), array([0.9866317], dtype=float32), array([0.06798249], dtype=float32), array([0.89819974], dtype=float32), array([0.9904293], dtype=float32), array([0.02365677], dtype=float32), array([0.98807317], dtype=float32), array([0.99050164], dtype=float32), array([0.9568395], dtype=float32), array([0.9464071], dtype=float32), array([0.65931386], dtype=float32), array([0.02378926], dtype=float32), array([0.7519245], dtype=float32), array([0.9844296], dtype=float32), array([0.8959165], dtype=float32), array([0.97888076], dtype=float32), array([0.98445755], dtype=float32), array([0.9917965], dtype=float32), array([0.98718923], dtype=float32), array([0.98980755], dtype=float32), array([0.9896225], dtype=float32), array([0.9672601], dtype=float32), array([0.02375159], dtype=float32), array([0.06607816], dtype=float32), array([0.9917602], dtype=float32), array([0.96909475], dtype=float32), array([0.90030646], dtype=float32), array([0.9904006], dtype=float32), array([0.9919642], dtype=float32), array([0.71751654], dtype=float32), array([0.6141941], dtype=float32), array([0.02372772], dtype=float32), array([0.98624045], dtype=float32), array([0.9880151], dtype=float32), array([0.02798022], dtype=float32), array([0.99158305], dtype=float32), array([0.9875107], dtype=float32), array([0.02848541], dtype=float32), array([0.9919979], dtype=float32), array([0.9686932], dtype=float32), array([0.9911696], dtype=float32), array([0.9920655], dtype=float32), array([0.14588514], dtype=float32), array([0.991463], dtype=float32), array([0.99184227], dtype=float32), array([0.9726178], dtype=float32), array([0.9796479], dtype=float32), array([0.9295487], dtype=float32), array([0.96857375], dtype=float32), array([0.9879716], dtype=float32), array([0.9906262], dtype=float32), array([0.9696657], dtype=float32), array([0.98878914], dtype=float32), array([0.9921638], dtype=float32), array([0.02290789], dtype=float32), array([0.9927745], dtype=float32), array([0.9819411], dtype=float32), array([0.93977094], dtype=float32), array([0.9703399], dtype=float32), array([0.9888459], dtype=float32), array([0.9861566], dtype=float32), array([0.9827663], dtype=float32), array([0.30915517], dtype=float32), array([0.98363507], dtype=float32), array([0.9841777], dtype=float32), array([0.9910857], dtype=float32), array([0.9513619], dtype=float32), array([0.992245], dtype=float32), array([0.9752769], dtype=float32), array([0.8118576], dtype=float32), array([0.04979477], dtype=float32), array([0.99191004], dtype=float32), array([0.98919266], dtype=float32), array([0.9909225], dtype=float32), array([0.9725122], dtype=float32), array([0.98844063], dtype=float32), array([0.99144214], dtype=float32), array([0.99205536], dtype=float32), array([0.992098], dtype=float32), array([0.03299154], dtype=float32), array([0.9492363], dtype=float32), array([0.9826293], dtype=float32), array([0.97777987], dtype=float32), array([0.98888797], dtype=float32), array([0.99251115], dtype=float32), array([0.9174075], dtype=float32), array([0.9907985], dtype=float32), array([0.99172336], dtype=float32), array([0.98959035], dtype=float32), array([0.9919592], dtype=float32), array([0.9927169], dtype=float32), array([0.981857], dtype=float32), array([0.98703057], dtype=float32), array([0.886596], dtype=float32), array([0.76775545], dtype=float32), array([0.45719573], dtype=float32), array([0.02509798], dtype=float32), array([0.98902786], dtype=float32), array([0.98556006], dtype=float32), array([0.9917109], dtype=float32), array([0.99281293], dtype=float32), array([0.9708584], dtype=float32), array([0.9778045], dtype=float32), array([0.819997], dtype=float32), array([0.9730856], dtype=float32), array([0.9921704], dtype=float32), array([0.9200639], dtype=float32), array([0.11816838], dtype=float32), array([0.9920122], dtype=float32), array([0.02570168], dtype=float32), array([0.94614846], dtype=float32), array([0.98988694], dtype=float32), array([0.9906563], dtype=float32), array([0.9471722], dtype=float32), array([0.99196965], dtype=float32), array([0.93965125], dtype=float32), array([0.9818804], dtype=float32), array([0.9921929], dtype=float32), array([0.992739], dtype=float32), array([0.9666862], dtype=float32), array([0.99269], dtype=float32), array([0.9875107], dtype=float32), array([0.987793], dtype=float32), array([0.9911175], dtype=float32), array([0.987882], dtype=float32), array([0.72569716], dtype=float32), array([0.99194217], dtype=float32), array([0.9904355], dtype=float32), array([0.9714873], dtype=float32), array([0.99105644], dtype=float32), array([0.9628594], dtype=float32), array([0.9924642], dtype=float32), array([0.98871624], dtype=float32), array([0.98831403], dtype=float32), array([0.4825223], dtype=float32), array([0.98718923], dtype=float32), array([0.6260576], dtype=float32), array([0.99070436], dtype=float32), array([0.9920266], dtype=float32), array([0.99277335], dtype=float32), array([0.99001795], dtype=float32), array([0.954998], dtype=float32), array([0.09006845], dtype=float32), array([0.9219099], dtype=float32), array([0.9786285], dtype=float32), array([0.98829097], dtype=float32), array([0.02296826], dtype=float32), array([0.9905509], dtype=float32), array([0.9865329], dtype=float32), array([0.9905505], dtype=float32), array([0.06328684], dtype=float32), array([0.7732611], dtype=float32), array([0.9895202], dtype=float32), array([0.9905275], dtype=float32), array([0.98530406], dtype=float32), array([0.07090095], dtype=float32), array([0.99001837], dtype=float32), array([0.9923471], dtype=float32), array([0.0264766], dtype=float32), array([0.97130704], dtype=float32), array([0.9809373], dtype=float32), array([0.9897428], dtype=float32), array([0.9923591], dtype=float32), array([0.9836602], dtype=float32), array([0.9832766], dtype=float32), array([0.94395757], dtype=float32), array([0.96658653], dtype=float32), array([0.9916298], dtype=float32), array([0.08488393], dtype=float32), array([0.9206056], dtype=float32), array([0.9782299], dtype=float32), array([0.95997256], dtype=float32), array([0.9782031], dtype=float32), array([0.9893482], dtype=float32), array([0.11170664], dtype=float32), array([0.07799076], dtype=float32), array([0.9910982], dtype=float32), array([0.24929781], dtype=float32), array([0.9923883], dtype=float32), array([0.98717475], dtype=float32), array([0.9889747], dtype=float32), array([0.98228216], dtype=float32), array([0.9821889], dtype=float32), array([0.04048012], dtype=float32), array([0.99151003], dtype=float32), array([0.97718894], dtype=float32), array([0.9858714], dtype=float32), array([0.99236816], dtype=float32), array([0.97198087], dtype=float32), array([0.98714113], dtype=float32), array([0.9857488], dtype=float32), array([0.9635007], dtype=float32), array([0.99143034], dtype=float32), array([0.9891676], dtype=float32), array([0.02456992], dtype=float32), array([0.9867389], dtype=float32), array([0.9897635], dtype=float32), array([0.02590413], dtype=float32), array([0.32225558], dtype=float32), array([0.05976511], dtype=float32), array([0.99145836], dtype=float32), array([0.78808016], dtype=float32), array([0.965879], dtype=float32), array([0.9897503], dtype=float32), array([0.02560965], dtype=float32), array([0.95290416], dtype=float32), array([0.6582713], dtype=float32), array([0.8633471], dtype=float32), array([0.9916276], dtype=float32), array([0.9855224], dtype=float32), array([0.18873239], dtype=float32), array([0.5912758], dtype=float32), array([0.8337451], dtype=float32), array([0.99163157], dtype=float32), array([0.98311573], dtype=float32), array([0.8954055], dtype=float32), array([0.02970914], dtype=float32), array([0.98894113], dtype=float32), array([0.99133927], dtype=float32), array([0.98961604], dtype=float32), array([0.9822543], dtype=float32), array([0.3692652], dtype=float32), array([0.43291947], dtype=float32), array([0.9854608], dtype=float32), array([0.9923374], dtype=float32), array([0.9912156], dtype=float32), array([0.9927699], dtype=float32), array([0.98803955], dtype=float32), array([0.0225538], dtype=float32), array([0.9451921], dtype=float32), array([0.991322], dtype=float32), array([0.98910636], dtype=float32), array([0.9872283], dtype=float32), array([0.92289805], dtype=float32), array([0.03147318], dtype=float32), array([0.9920643], dtype=float32), array([0.9922551], dtype=float32), array([0.8906337], dtype=float32), array([0.9829638], dtype=float32), array([0.988159], dtype=float32), array([0.9071795], dtype=float32), array([0.02362055], dtype=float32), array([0.9908704], dtype=float32), array([0.98962003], dtype=float32), array([0.9909809], dtype=float32), array([0.9611967], dtype=float32), array([0.99131244], dtype=float32), array([0.8599262], dtype=float32), array([0.9875935], dtype=float32), array([0.98324734], dtype=float32), array([0.08027265], dtype=float32), array([0.98753566], dtype=float32), array([0.98549414], dtype=float32), array([0.974938], dtype=float32), array([0.9909281], dtype=float32), array([0.945351], dtype=float32), array([0.9904705], dtype=float32), array([0.9907851], dtype=float32), array([0.98073685], dtype=float32), array([0.18319182], dtype=float32), array([0.99182445], dtype=float32), array([0.9208266], dtype=float32), array([0.99220794], dtype=float32), array([0.8845562], dtype=float32), array([0.9861056], dtype=float32), array([0.8932612], dtype=float32), array([0.97391325], dtype=float32), array([0.9925815], dtype=float32), array([0.983916], dtype=float32), array([0.9899946], dtype=float32), array([0.9429392], dtype=float32), array([0.03619469], dtype=float32), array([0.9910903], dtype=float32), array([0.420309], dtype=float32), array([0.03048722], dtype=float32), array([0.99268943], dtype=float32), array([0.9685071], dtype=float32), array([0.98267394], dtype=float32), array([0.981806], dtype=float32), array([0.9917311], dtype=float32), array([0.9925586], dtype=float32), array([0.96542823], dtype=float32), array([0.9866742], dtype=float32), array([0.99077237], dtype=float32), array([0.96878237], dtype=float32), array([0.9849925], dtype=float32), array([0.98558575], dtype=float32), array([0.9296136], dtype=float32), array([0.9701517], dtype=float32), array([0.98583037], dtype=float32), array([0.8887585], dtype=float32), array([0.9881059], dtype=float32), array([0.98133147], dtype=float32), array([0.0287808], dtype=float32), array([0.75777817], dtype=float32), array([0.9895377], dtype=float32), array([0.9699172], dtype=float32), array([0.9821133], dtype=float32), array([0.9852894], dtype=float32), array([0.9767694], dtype=float32), array([0.5308608], dtype=float32), array([0.03162586], dtype=float32), array([0.03426657], dtype=float32), array([0.989949], dtype=float32), array([0.9734185], dtype=float32), array([0.99189454], dtype=float32), array([0.9913024], dtype=float32), array([0.9852491], dtype=float32), array([0.9880398], dtype=float32), array([0.71914935], dtype=float32), array([0.02762438], dtype=float32), array([0.9887267], dtype=float32), array([0.9694279], dtype=float32), array([0.9926265], dtype=float32), array([0.03632948], dtype=float32), array([0.9926352], dtype=float32), array([0.9744847], dtype=float32), array([0.9907928], dtype=float32), array([0.99016994], dtype=float32), array([0.9791789], dtype=float32), array([0.9923569], dtype=float32), array([0.99052584], dtype=float32), array([0.77832735], dtype=float32), array([0.986896], dtype=float32), array([0.9921016], dtype=float32), array([0.98994094], dtype=float32), array([0.91141045], dtype=float32), array([0.9920866], dtype=float32), array([0.30185062], dtype=float32), array([0.9856651], dtype=float32), array([0.02819715], dtype=float32), array([0.9718075], dtype=float32), array([0.9596385], dtype=float32), array([0.9923821], dtype=float32), array([0.991935], dtype=float32), array([0.9914717], dtype=float32), array([0.98683876], dtype=float32), array([0.0266239], dtype=float32), array([0.9929911], dtype=float32), array([0.991059], dtype=float32), array([0.96832585], dtype=float32), array([0.02270848], dtype=float32), array([0.87679166], dtype=float32), array([0.11859643], dtype=float32), array([0.9926676], dtype=float32), array([0.9926757], dtype=float32), array([0.98938006], dtype=float32), array([0.9708915], dtype=float32), array([0.9558199], dtype=float32), array([0.97997504], dtype=float32), array([0.9820911], dtype=float32), array([0.9922307], dtype=float32), array([0.9903542], dtype=float32), array([0.9909995], dtype=float32), array([0.03109324], dtype=float32), array([0.99254215], dtype=float32), array([0.18382446], dtype=float32), array([0.98216367], dtype=float32), array([0.99295324], dtype=float32), array([0.02506845], dtype=float32), array([0.9812274], dtype=float32), array([0.9836897], dtype=float32), array([0.9890894], dtype=float32), array([0.583249], dtype=float32), array([0.9862605], dtype=float32), array([0.8587113], dtype=float32), array([0.99263036], dtype=float32), array([0.98691505], dtype=float32), array([0.03093843], dtype=float32), array([0.9912068], dtype=float32), array([0.97662103], dtype=float32), array([0.9854858], dtype=float32), array([0.9889948], dtype=float32), array([0.9856038], dtype=float32), array([0.99192554], dtype=float32), array([0.9924561], dtype=float32), array([0.03539931], dtype=float32), array([0.98587126], dtype=float32), array([0.9543609], dtype=float32), array([0.9900955], dtype=float32), array([0.98283654], dtype=float32), array([0.7569432], dtype=float32), array([0.02558934], dtype=float32), array([0.98958033], dtype=float32), array([0.9737344], dtype=float32), array([0.3951812], dtype=float32), array([0.9838397], dtype=float32), array([0.98718435], dtype=float32), array([0.9829579], dtype=float32), array([0.98496485], dtype=float32), array([0.99185044], dtype=float32), array([0.98588485], dtype=float32), array([0.9923913], dtype=float32), array([0.85657203], dtype=float32), array([0.99242556], dtype=float32), array([0.98945975], dtype=float32), array([0.9618225], dtype=float32), array([0.9761429], dtype=float32), array([0.03326195], dtype=float32), array([0.97177327], dtype=float32), array([0.96935755], dtype=float32), array([0.02843031], dtype=float32), array([0.76349795], dtype=float32), array([0.91720444], dtype=float32), array([0.9896818], dtype=float32), array([0.7708438], dtype=float32), array([0.99023926], dtype=float32), array([0.07604415], dtype=float32), array([0.98910344], dtype=float32), array([0.02464359], dtype=float32), array([0.9378085], dtype=float32), array([0.98744595], dtype=float32), array([0.96686256], dtype=float32), array([0.9923759], dtype=float32), array([0.8197576], dtype=float32), array([0.4070142], dtype=float32), array([0.03324675], dtype=float32), array([0.9914521], dtype=float32), array([0.98559964], dtype=float32), array([0.91415507], dtype=float32), array([0.9915338], dtype=float32), array([0.99204504], dtype=float32), array([0.986336], dtype=float32), array([0.9926722], dtype=float32), array([0.9865404], dtype=float32), array([0.97378504], dtype=float32), array([0.9923963], dtype=float32), array([0.97302306], dtype=float32), array([0.9822075], dtype=float32), array([0.9925607], dtype=float32), array([0.9495903], dtype=float32), array([0.9632342], dtype=float32), array([0.69132686], dtype=float32), array([0.99008626], dtype=float32), array([0.9910794], dtype=float32), array([0.991585], dtype=float32), array([0.85847557], dtype=float32), array([0.81392705], dtype=float32), array([0.9888425], dtype=float32), array([0.9888425], dtype=float32), array([0.99242556], dtype=float32), array([0.99203134], dtype=float32), array([0.952826], dtype=float32), array([0.03023918], dtype=float32), array([0.9462682], dtype=float32), array([0.9826742], dtype=float32), array([0.8517556], dtype=float32), array([0.89819974], dtype=float32), array([0.9917297], dtype=float32), array([0.99086446], dtype=float32), array([0.98804677], dtype=float32), array([0.8803301], dtype=float32), array([0.9927233], dtype=float32), array([0.99225396], dtype=float32), array([0.9917332], dtype=float32), array([0.976694], dtype=float32), array([0.38930467], dtype=float32), array([0.96609217], dtype=float32), array([0.0235906], dtype=float32), array([0.9879169], dtype=float32), array([0.68139297], dtype=float32), array([0.02358051], dtype=float32), array([0.9901811], dtype=float32), array([0.02665055], dtype=float32), array([0.9583457], dtype=float32), array([0.58539], dtype=float32), array([0.99049824], dtype=float32), array([0.9907355], dtype=float32), array([0.97875655], dtype=float32), array([0.9590326], dtype=float32), array([0.7020907], dtype=float32), array([0.97118586], dtype=float32), array([0.98999196], dtype=float32), array([0.98692733], dtype=float32), array([0.9882526], dtype=float32), array([0.0241555], dtype=float32), array([0.99084795], dtype=float32), array([0.02904714], dtype=float32), array([0.98797405], dtype=float32), array([0.96865654], dtype=float32), array([0.02602804], dtype=float32), array([0.9800954], dtype=float32), array([0.9916333], dtype=float32), array([0.9921355], dtype=float32), array([0.9540406], dtype=float32), array([0.9871546], dtype=float32), array([0.03849924], dtype=float32), array([0.7948819], dtype=float32), array([0.9915543], dtype=float32), array([0.0255622], dtype=float32), array([0.9892448], dtype=float32), array([0.98507696], dtype=float32), array([0.98622155], dtype=float32), array([0.9914824], dtype=float32), array([0.03282082], dtype=float32), array([0.97718483], dtype=float32), array([0.97876954], dtype=float32), array([0.02585606], dtype=float32), array([0.99007416], dtype=float32), array([0.655807], dtype=float32), array([0.9250991], dtype=float32), array([0.98497945], dtype=float32), array([0.03280459], dtype=float32), array([0.99267596], dtype=float32), array([0.98984665], dtype=float32), array([0.9725381], dtype=float32), array([0.47713545], dtype=float32), array([0.07100299], dtype=float32), array([0.13962223], dtype=float32), array([0.9742398], dtype=float32), array([0.02388901], dtype=float32), array([0.99188775], dtype=float32), array([0.9748037], dtype=float32), array([0.9742433], dtype=float32), array([0.9877566], dtype=float32), array([0.785337], dtype=float32), array([0.9928162], dtype=float32), array([0.8826362], dtype=float32), array([0.07484861], dtype=float32), array([0.9925121], dtype=float32), array([0.98942775], dtype=float32), array([0.99248874], dtype=float32), array([0.9880817], dtype=float32), array([0.9897314], dtype=float32), array([0.99196047], dtype=float32), array([0.0243348], dtype=float32), array([0.9894153], dtype=float32), array([0.9740059], dtype=float32), array([0.02334009], dtype=float32), array([0.97853273], dtype=float32), array([0.9919294], dtype=float32), array([0.8758862], dtype=float32), array([0.2790294], dtype=float32), array([0.02553826], dtype=float32), array([0.02404191], dtype=float32), array([0.98545444], dtype=float32), array([0.9881963], dtype=float32), array([0.02352173], dtype=float32), array([0.9378281], dtype=float32), array([0.02947672], dtype=float32), array([0.9922322], dtype=float32), array([0.9718042], dtype=float32), array([0.9456779], dtype=float32), array([0.9868454], dtype=float32), array([0.99227], dtype=float32), array([0.9910108], dtype=float32), array([0.9802877], dtype=float32), array([0.9879964], dtype=float32), array([0.9794906], dtype=float32), array([0.90628964], dtype=float32), array([0.9581133], dtype=float32), array([0.96025276], dtype=float32), array([0.9417131], dtype=float32), array([0.02294488], dtype=float32), array([0.99207777], dtype=float32), array([0.9699832], dtype=float32), array([0.9802301], dtype=float32), array([0.05294109], dtype=float32), array([0.02844042], dtype=float32), array([0.9676599], dtype=float32), array([0.9925619], dtype=float32), array([0.9921336], dtype=float32), array([0.9449733], dtype=float32), array([0.99259794], dtype=float32), array([0.9886114], dtype=float32), array([0.99165], dtype=float32), array([0.9877694], dtype=float32), array([0.9904095], dtype=float32), array([0.9924056], dtype=float32), array([0.97162443], dtype=float32), array([0.9921029], dtype=float32), array([0.99182266], dtype=float32), array([0.9801508], dtype=float32), array([0.98346287], dtype=float32), array([0.98970616], dtype=float32), array([0.9917853], dtype=float32), array([0.98900187], dtype=float32), array([0.9753504], dtype=float32), array([0.9921096], dtype=float32), array([0.05739437], dtype=float32), array([0.99090815], dtype=float32), array([0.9869408], dtype=float32), array([0.03874658], dtype=float32), array([0.96148175], dtype=float32), array([0.9900029], dtype=float32), array([0.99165034], dtype=float32), array([0.9864057], dtype=float32), array([0.9731391], dtype=float32), array([0.99221015], dtype=float32), array([0.9891522], dtype=float32), array([0.99258476], dtype=float32), array([0.9701211], dtype=float32), array([0.9826819], dtype=float32), array([0.9281968], dtype=float32), array([0.84980047], dtype=float32), array([0.9917911], dtype=float32), array([0.98635197], dtype=float32), array([0.9909781], dtype=float32), array([0.02907294], dtype=float32), array([0.9864741], dtype=float32), array([0.98582965], dtype=float32), array([0.9782241], dtype=float32), array([0.9005163], dtype=float32), array([0.98789024], dtype=float32), array([0.9641083], dtype=float32), array([0.99145836], dtype=float32), array([0.9286472], dtype=float32), array([0.9903189], dtype=float32), array([0.98078245], dtype=float32), array([0.99058086], dtype=float32), array([0.03018492], dtype=float32), array([0.98838055], dtype=float32), array([0.98466486], dtype=float32), array([0.02328706], dtype=float32), array([0.9861326], dtype=float32), array([0.98574466], dtype=float32), array([0.9777966], dtype=float32), array([0.9721839], dtype=float32), array([0.98835003], dtype=float32), array([0.99233764], dtype=float32), array([0.03827852], dtype=float32), array([0.99029267], dtype=float32), array([0.9891255], dtype=float32), array([0.9926152], dtype=float32), array([0.9920541], dtype=float32), array([0.98923093], dtype=float32), array([0.97730696], dtype=float32), array([0.9748511], dtype=float32), array([0.99045396], dtype=float32), array([0.9906613], dtype=float32), array([0.20322461], dtype=float32), array([0.25943953], dtype=float32), array([0.98633236], dtype=float32), array([0.9909637], dtype=float32), array([0.98972523], dtype=float32), array([0.02891958], dtype=float32), array([0.03400217], dtype=float32), array([0.9824306], dtype=float32), array([0.98499507], dtype=float32), array([0.54576516], dtype=float32), array([0.93927777], dtype=float32), array([0.9926676], dtype=float32), array([0.98664606], dtype=float32), array([0.7435756], dtype=float32), array([0.9900097], dtype=float32), array([0.9879159], dtype=float32), array([0.9887369], dtype=float32), array([0.9029364], dtype=float32), array([0.9769967], dtype=float32), array([0.9529385], dtype=float32), array([0.9901327], dtype=float32), array([0.07697424], dtype=float32), array([0.9903626], dtype=float32), array([0.9915748], dtype=float32), array([0.16847473], dtype=float32), array([0.02492367], dtype=float32), array([0.906372], dtype=float32), array([0.9729899], dtype=float32), array([0.02587127], dtype=float32), array([0.99246466], dtype=float32), array([0.97587353], dtype=float32), array([0.9405523], dtype=float32), array([0.07637414], dtype=float32), array([0.9589284], dtype=float32), array([0.98719865], dtype=float32), array([0.9896611], dtype=float32), array([0.9912766], dtype=float32), array([0.992266], dtype=float32), array([0.9546774], dtype=float32), array([0.02328533], dtype=float32), array([0.9899714], dtype=float32), array([0.96840805], dtype=float32), array([0.98524714], dtype=float32), array([0.9885324], dtype=float32), array([0.99230206], dtype=float32), array([0.98062253], dtype=float32), array([0.98741883], dtype=float32), array([0.9898341], dtype=float32), array([0.9925499], dtype=float32), array([0.98965734], dtype=float32), array([0.9917955], dtype=float32), array([0.99243075], dtype=float32), array([0.9905166], dtype=float32), array([0.9868809], dtype=float32), array([0.05127276], dtype=float32), array([0.9924148], dtype=float32), array([0.98525757], dtype=float32), array([0.03551995], dtype=float32), array([0.98859125], dtype=float32), array([0.98978454], dtype=float32), array([0.9843211], dtype=float32), array([0.12454009], dtype=float32), array([0.98838145], dtype=float32), array([0.99220383], dtype=float32), array([0.9927267], dtype=float32), array([0.6867044], dtype=float32), array([0.988946], dtype=float32), array([0.9913846], dtype=float32), array([0.0911513], dtype=float32), array([0.958004], dtype=float32), array([0.992812], dtype=float32), array([0.93567383], dtype=float32), array([0.02599701], dtype=float32), array([0.5949736], dtype=float32), array([0.9856786], dtype=float32), array([0.9923132], dtype=float32), array([0.08541872], dtype=float32), array([0.99069387], dtype=float32), array([0.02322746], dtype=float32), array([0.94549537], dtype=float32), array([0.99043536], dtype=float32), array([0.96430236], dtype=float32), array([0.9904021], dtype=float32), array([0.16042049], dtype=float32), array([0.9857867], dtype=float32), array([0.02662693], dtype=float32), array([0.297535], dtype=float32), array([0.8759022], dtype=float32), array([0.8985749], dtype=float32), array([0.02397908], dtype=float32), array([0.99138486], dtype=float32), array([0.9835382], dtype=float32), array([0.85691184], dtype=float32), array([0.97643095], dtype=float32), array([0.9917635], dtype=float32), array([0.99284184], dtype=float32), array([0.9711565], dtype=float32), array([0.99114746], dtype=float32), array([0.944932], dtype=float32), array([0.990807], dtype=float32), array([0.95381624], dtype=float32), array([0.94612604], dtype=float32), array([0.03151297], dtype=float32), array([0.9913196], dtype=float32), array([0.99254465], dtype=float32), array([0.9834298], dtype=float32), array([0.9897898], dtype=float32), array([0.946445], dtype=float32), array([0.99173903], dtype=float32), array([0.9921714], dtype=float32), array([0.05428873], dtype=float32), array([0.9905709], dtype=float32), array([0.98006356], dtype=float32), array([0.74063456], dtype=float32), array([0.9893482], dtype=float32), array([0.08002848], dtype=float32), array([0.07497727], dtype=float32), array([0.9910691], dtype=float32), array([0.9923767], dtype=float32), array([0.9910528], dtype=float32), array([0.0251752], dtype=float32), array([0.8537505], dtype=float32), array([0.9773201], dtype=float32), array([0.41622844], dtype=float32), array([0.9321648], dtype=float32), array([0.9759746], dtype=float32), array([0.9362087], dtype=float32), array([0.89508027], dtype=float32), array([0.06590667], dtype=float32), array([0.40693438], dtype=float32), array([0.02841863], dtype=float32), array([0.0230464], dtype=float32), array([0.9796183], dtype=float32), array([0.02510689], dtype=float32), array([0.9707672], dtype=float32), array([0.93618596], dtype=float32), array([0.9910998], dtype=float32), array([0.9923062], dtype=float32), array([0.9846614], dtype=float32), array([0.990622], dtype=float32), array([0.99199975], dtype=float32), array([0.97342795], dtype=float32), array([0.9705161], dtype=float32), array([0.98420495], dtype=float32), array([0.98742247], dtype=float32), array([0.9886127], dtype=float32), array([0.96658653], dtype=float32), array([0.97370166], dtype=float32), array([0.9883061], dtype=float32), array([0.9582359], dtype=float32), array([0.9924419], dtype=float32), array([0.98337597], dtype=float32), array([0.95482224], dtype=float32), array([0.0367905], dtype=float32), array([0.9799089], dtype=float32), array([0.96542156], dtype=float32), array([0.02506343], dtype=float32), array([0.99060297], dtype=float32), array([0.9551153], dtype=float32), array([0.96646446], dtype=float32), array([0.99104226], dtype=float32), array([0.98219705], dtype=float32), array([0.99252254], dtype=float32), array([0.9905453], dtype=float32), array([0.9927947], dtype=float32), array([0.02348757], dtype=float32), array([0.98898906], dtype=float32), array([0.98742], dtype=float32), array([0.9907238], dtype=float32), array([0.9636776], dtype=float32), array([0.98851854], dtype=float32), array([0.9746338], dtype=float32), array([0.9911137], dtype=float32), array([0.02630034], dtype=float32), array([0.98903906], dtype=float32), array([0.9905098], dtype=float32), array([0.9917207], dtype=float32), array([0.9910376], dtype=float32), array([0.98979086], dtype=float32), array([0.99220407], dtype=float32), array([0.9923064], dtype=float32), array([0.98962176], dtype=float32), array([0.98072755], dtype=float32), array([0.985586], dtype=float32), array([0.98110414], dtype=float32), array([0.99256366], dtype=float32), array([0.9157149], dtype=float32), array([0.99178183], dtype=float32), array([0.9149489], dtype=float32), array([0.0229321], dtype=float32), array([0.9924085], dtype=float32), array([0.9925605], dtype=float32), array([0.9501603], dtype=float32), array([0.9911582], dtype=float32), array([0.96701527], dtype=float32), array([0.9766011], dtype=float32), array([0.17108005], dtype=float32), array([0.9646754], dtype=float32), array([0.9342739], dtype=float32), array([0.9922077], dtype=float32), array([0.98082757], dtype=float32), array([0.9150324], dtype=float32), array([0.90891045], dtype=float32), array([0.75929904], dtype=float32), array([0.98918194], dtype=float32), array([0.97803235], dtype=float32), array([0.992011], dtype=float32), array([0.984562], dtype=float32), array([0.99165267], dtype=float32), array([0.98490125], dtype=float32), array([0.953209], dtype=float32), array([0.9907478], dtype=float32), array([0.97878975], dtype=float32), array([0.9922097], dtype=float32), array([0.97972506], dtype=float32), array([0.9915801], dtype=float32), array([0.99037445], dtype=float32), array([0.99185634], dtype=float32), array([0.5350159], dtype=float32), array([0.9416741], dtype=float32), array([0.99173284], dtype=float32), array([0.98224074], dtype=float32), array([0.9895845], dtype=float32), array([0.99219745], dtype=float32), array([0.9419867], dtype=float32), array([0.99170613], dtype=float32), array([0.9873992], dtype=float32), array([0.9890564], dtype=float32), array([0.956714], dtype=float32), array([0.99245995], dtype=float32), array([0.9926473], dtype=float32), array([0.3477217], dtype=float32), array([0.99165595], dtype=float32), array([0.98479074], dtype=float32), array([0.9905686], dtype=float32), array([0.9892915], dtype=float32), array([0.9924744], dtype=float32), array([0.17547943], dtype=float32), array([0.988518], dtype=float32), array([0.98306817], dtype=float32), array([0.88884586], dtype=float32), array([0.99173903], dtype=float32), array([0.8926129], dtype=float32), array([0.9917637], dtype=float32), array([0.9921212], dtype=float32), array([0.9906123], dtype=float32), array([0.92898005], dtype=float32), array([0.9891044], dtype=float32), array([0.99266726], dtype=float32), array([0.98910135], dtype=float32), array([0.9902084], dtype=float32), array([0.53618324], dtype=float32), array([0.992034], dtype=float32), array([0.98794067], dtype=float32), array([0.9635766], dtype=float32), array([0.9679382], dtype=float32), array([0.5409671], dtype=float32), array([0.9809747], dtype=float32), array([0.82807857], dtype=float32), array([0.9897675], dtype=float32), array([0.9296082], dtype=float32), array([0.9884115], dtype=float32), array([0.9880199], dtype=float32), array([0.9913577], dtype=float32), array([0.9852733], dtype=float32), array([0.99161315], dtype=float32), array([0.02637868], dtype=float32), array([0.99237084], dtype=float32), array([0.9884052], dtype=float32), array([0.95120925], dtype=float32), array([0.9889163], dtype=float32), array([0.9922496], dtype=float32), array([0.9927704], dtype=float32), array([0.03520362], dtype=float32), array([0.95189273], dtype=float32), array([0.17206766], dtype=float32), array([0.9815563], dtype=float32), array([0.98250145], dtype=float32), array([0.9849111], dtype=float32), array([0.9907203], dtype=float32), array([0.9849368], dtype=float32), array([0.9918331], dtype=float32), array([0.99276114], dtype=float32), array([0.9862455], dtype=float32), array([0.98624045], dtype=float32), array([0.7911877], dtype=float32), array([0.9837105], dtype=float32), array([0.9707672], dtype=float32), array([0.95246136], dtype=float32), array([0.9794278], dtype=float32), array([0.09590949], dtype=float32), array([0.98644894], dtype=float32), array([0.03048368], dtype=float32), array([0.9883873], dtype=float32), array([0.9707037], dtype=float32), array([0.9888052], dtype=float32), array([0.98926115], dtype=float32), array([0.9922442], dtype=float32), array([0.97932416], dtype=float32), array([0.99195224], dtype=float32), array([0.98338056], dtype=float32), array([0.9643457], dtype=float32), array([0.97554886], dtype=float32), array([0.9927267], dtype=float32), array([0.97397894], dtype=float32), array([0.9847398], dtype=float32), array([0.02346306], dtype=float32), array([0.02867607], dtype=float32), array([0.98801416], dtype=float32), array([0.99185586], dtype=float32), array([0.9926723], dtype=float32), array([0.99249333], dtype=float32), array([0.9873356], dtype=float32), array([0.98937595], dtype=float32), array([0.9890617], dtype=float32), array([0.97889256], dtype=float32), array([0.978953], dtype=float32), array([0.98949945], dtype=float32), array([0.9499205], dtype=float32), array([0.02741604], dtype=float32), array([0.02708949], dtype=float32), array([0.98129064], dtype=float32), array([0.988277], dtype=float32), array([0.94561315], dtype=float32), array([0.85929334], dtype=float32), array([0.99262893], dtype=float32), array([0.986899], dtype=float32), array([0.99031687], dtype=float32), array([0.9863149], dtype=float32), array([0.702941], dtype=float32), array([0.9785674], dtype=float32), array([0.984143], dtype=float32), array([0.992603], dtype=float32), array([0.33737978], dtype=float32), array([0.9790678], dtype=float32), array([0.9890302], dtype=float32), array([0.9833365], dtype=float32), array([0.5340319], dtype=float32), array([0.2030834], dtype=float32), array([0.97780687], dtype=float32), array([0.986741], dtype=float32), array([0.99267054], dtype=float32), array([0.9853859], dtype=float32), array([0.0240051], dtype=float32), array([0.8731626], dtype=float32), array([0.91469526], dtype=float32), array([0.9590432], dtype=float32), array([0.9597437], dtype=float32), array([0.9796362], dtype=float32), array([0.9910998], dtype=float32), array([0.98408616], dtype=float32), array([0.02377299], dtype=float32), array([0.98785454], dtype=float32), array([0.9232679], dtype=float32), array([0.94974923], dtype=float32), array([0.93495625], dtype=float32), array([0.9873245], dtype=float32), array([0.02712156], dtype=float32), array([0.98250145], dtype=float32), array([0.99248755], dtype=float32), array([0.9916358], dtype=float32), array([0.9460795], dtype=float32), array([0.62435], dtype=float32), array([0.9906895], dtype=float32), array([0.02991021], dtype=float32), array([0.9917184], dtype=float32), array([0.08182839], dtype=float32), array([0.9884189], dtype=float32), array([0.99266386], dtype=float32), array([0.98942775], dtype=float32), array([0.9925194], dtype=float32), array([0.9648919], dtype=float32), array([0.54267746], dtype=float32), array([0.9921624], dtype=float32), array([0.99170375], dtype=float32), array([0.9880001], dtype=float32), array([0.77385294], dtype=float32), array([0.9894294], dtype=float32), array([0.99281764], dtype=float32), array([0.9828015], dtype=float32), array([0.98753035], dtype=float32), array([0.93922126], dtype=float32), array([0.9644681], dtype=float32), array([0.9882891], dtype=float32), array([0.9719359], dtype=float32), array([0.75553185], dtype=float32), array([0.9876578], dtype=float32), array([0.9863187], dtype=float32), array([0.9740393], dtype=float32), array([0.07129788], dtype=float32), array([0.97637695], dtype=float32), array([0.94938874], dtype=float32), array([0.94016665], dtype=float32), array([0.987525], dtype=float32), array([0.8592324], dtype=float32), array([0.9902435], dtype=float32), array([0.9907203], dtype=float32), array([0.99224067], dtype=float32), array([0.9907749], dtype=float32), array([0.9926722], dtype=float32), array([0.53430533], dtype=float32), array([0.96830696], dtype=float32), array([0.99069715], dtype=float32), array([0.986432], dtype=float32), array([0.9238776], dtype=float32), array([0.99197364], dtype=float32), array([0.02577926], dtype=float32), array([0.99075794], dtype=float32), array([0.61897117], dtype=float32), array([0.9738235], dtype=float32), array([0.09658743], dtype=float32), array([0.03488397], dtype=float32), array([0.9551153], dtype=float32), array([0.9435932], dtype=float32), array([0.02262791], dtype=float32), array([0.9906391], dtype=float32), array([0.02813676], dtype=float32), array([0.59932363], dtype=float32), array([0.9802874], dtype=float32), array([0.02590465], dtype=float32), array([0.9607112], dtype=float32), array([0.8718099], dtype=float32), array([0.0365129], dtype=float32), array([0.9800106], dtype=float32), array([0.98497057], dtype=float32), array([0.9416018], dtype=float32), array([0.9868952], dtype=float32), array([0.05722281], dtype=float32), array([0.99256295], dtype=float32), array([0.03345257], dtype=float32), array([0.9904912], dtype=float32), array([0.7806349], dtype=float32), array([0.9922558], dtype=float32), array([0.9500337], dtype=float32), array([0.99045146], dtype=float32), array([0.9797109], dtype=float32), array([0.9905866], dtype=float32), array([0.02488373], dtype=float32), array([0.0249647], dtype=float32), array([0.99075806], dtype=float32), array([0.98137695], dtype=float32), array([0.07275426], dtype=float32), array([0.9597979], dtype=float32), array([0.46752378], dtype=float32), array([0.99095094], dtype=float32), array([0.97482806], dtype=float32), array([0.56672347], dtype=float32), array([0.966639], dtype=float32), array([0.9923036], dtype=float32), array([0.9914278], dtype=float32), array([0.9877182], dtype=float32), array([0.9753458], dtype=float32), array([0.9917761], dtype=float32), array([0.9923402], dtype=float32), array([0.9888342], dtype=float32), array([0.97167194], dtype=float32), array([0.9848947], dtype=float32), array([0.9759068], dtype=float32), array([0.98972976], dtype=float32), array([0.985939], dtype=float32), array([0.98493457], dtype=float32), array([0.98463017], dtype=float32), array([0.985329], dtype=float32), array([0.9809606], dtype=float32), array([0.02375424], dtype=float32), array([0.99142283], dtype=float32), array([0.90738475], dtype=float32), array([0.97456235], dtype=float32), array([0.98809737], dtype=float32), array([0.9903616], dtype=float32), array([0.99281996], dtype=float32), array([0.06730793], dtype=float32), array([0.95699704], dtype=float32), array([0.98278195], dtype=float32), array([0.9826103], dtype=float32), array([0.9778282], dtype=float32), array([0.969702], dtype=float32), array([0.9880881], dtype=float32), array([0.9787313], dtype=float32), array([0.9926133], dtype=float32), array([0.94308656], dtype=float32), array([0.02512498], dtype=float32), array([0.02491173], dtype=float32), array([0.9871622], dtype=float32), array([0.9017161], dtype=float32), array([0.98972636], dtype=float32), array([0.82453597], dtype=float32), array([0.9916918], dtype=float32), array([0.98503345], dtype=float32), array([0.9870374], dtype=float32), array([0.02564022], dtype=float32), array([0.9912316], dtype=float32), array([0.9829442], dtype=float32), array([0.9920399], dtype=float32), array([0.98803097], dtype=float32), array([0.98305315], dtype=float32), array([0.95374775], dtype=float32), array([0.03197268], dtype=float32), array([0.9915589], dtype=float32), array([0.9773841], dtype=float32), array([0.9393338], dtype=float32), array([0.82205385], dtype=float32), array([0.9910926], dtype=float32), array([0.9901613], dtype=float32), array([0.04892221], dtype=float32), array([0.9911445], dtype=float32), array([0.968066], dtype=float32), array([0.98812175], dtype=float32), array([0.99055964], dtype=float32), array([0.9905505], dtype=float32), array([0.9921714], dtype=float32), array([0.9637811], dtype=float32), array([0.9897786], dtype=float32), array([0.9786404], dtype=float32), array([0.92599714], dtype=float32), array([0.05395054], dtype=float32), array([0.2546718], dtype=float32), array([0.9890482], dtype=float32), array([0.9129661], dtype=float32), array([0.98673356], dtype=float32), array([0.9920604], dtype=float32), array([0.99253947], dtype=float32), array([0.99256176], dtype=float32), array([0.9922436], dtype=float32), array([0.99202055], dtype=float32), array([0.03811879], dtype=float32), array([0.9853324], dtype=float32), array([0.97989994], dtype=float32), array([0.98443455], dtype=float32), array([0.02342993], dtype=float32), array([0.9578565], dtype=float32), array([0.9909277], dtype=float32), array([0.9349667], dtype=float32), array([0.99167436], dtype=float32), array([0.98442507], dtype=float32), array([0.02348904], dtype=float32), array([0.9913521], dtype=float32), array([0.9849899], dtype=float32), array([0.9669006], dtype=float32), array([0.7666835], dtype=float32), array([0.98566425], dtype=float32), array([0.03463906], dtype=float32), array([0.9861712], dtype=float32), array([0.98820657], dtype=float32), array([0.02916838], dtype=float32), array([0.5406706], dtype=float32), array([0.99019617], dtype=float32), array([0.7801137], dtype=float32), array([0.9921146], dtype=float32), array([0.991578], dtype=float32), array([0.97809005], dtype=float32), array([0.3918988], dtype=float32), array([0.90074533], dtype=float32), array([0.9885889], dtype=float32), array([0.9692993], dtype=float32), array([0.98890543], dtype=float32), array([0.9924245], dtype=float32), array([0.02327414], dtype=float32), array([0.9924494], dtype=float32), array([0.99214], dtype=float32), array([0.9926959], dtype=float32), array([0.03836591], dtype=float32), array([0.75022954], dtype=float32), array([0.99073875], dtype=float32), array([0.98564494], dtype=float32), array([0.99204844], dtype=float32), array([0.9508663], dtype=float32), array([0.07222252], dtype=float32), array([0.97155166], dtype=float32), array([0.95953727], dtype=float32), array([0.9917937], dtype=float32), array([0.992407], dtype=float32), array([0.98956573], dtype=float32), array([0.9737587], dtype=float32), array([0.9876193], dtype=float32), array([0.6477597], dtype=float32), array([0.99191475], dtype=float32), array([0.989423], dtype=float32), array([0.63791007], dtype=float32), array([0.98904], dtype=float32), array([0.9690967], dtype=float32), array([0.9837847], dtype=float32), array([0.98718435], dtype=float32), array([0.9923058], dtype=float32), array([0.9895405], dtype=float32), array([0.2702817], dtype=float32), array([0.9686396], dtype=float32), array([0.9883653], dtype=float32), array([0.02618905], dtype=float32), array([0.98108953], dtype=float32), array([0.03701989], dtype=float32), array([0.98388463], dtype=float32), array([0.04606219], dtype=float32), array([0.9926756], dtype=float32), array([0.9878973], dtype=float32), array([0.9871602], dtype=float32), array([0.03148152], dtype=float32), array([0.9827953], dtype=float32), array([0.9877715], dtype=float32), array([0.9295467], dtype=float32), array([0.99214196], dtype=float32), array([0.98820287], dtype=float32), array([0.9549703], dtype=float32), array([0.99220407], dtype=float32), array([0.9902272], dtype=float32), array([0.9743677], dtype=float32), array([0.99264187], dtype=float32), array([0.9913667], dtype=float32), array([0.98632985], dtype=float32), array([0.99067605], dtype=float32), array([0.02502695], dtype=float32), array([0.91461235], dtype=float32), array([0.9888496], dtype=float32), array([0.9716044], dtype=float32), array([0.9769643], dtype=float32), array([0.9467573], dtype=float32), array([0.9924118], dtype=float32), array([0.98000973], dtype=float32), array([0.9633257], dtype=float32), array([0.9922626], dtype=float32), array([0.8845562], dtype=float32), array([0.9842078], dtype=float32), array([0.99037445], dtype=float32), array([0.9924697], dtype=float32), array([0.97986823], dtype=float32), array([0.94636863], dtype=float32), array([0.97474444], dtype=float32), array([0.9854858], dtype=float32), array([0.98351306], dtype=float32), array([0.97074765], dtype=float32), array([0.98394936], dtype=float32), array([0.98479074], dtype=float32), array([0.91878456], dtype=float32), array([0.9920266], dtype=float32), array([0.99166894], dtype=float32), array([0.99110234], dtype=float32), array([0.9603777], dtype=float32), array([0.9690508], dtype=float32), array([0.9896255], dtype=float32), array([0.9843522], dtype=float32), array([0.9716427], dtype=float32), array([0.38959324], dtype=float32), array([0.99143034], dtype=float32), array([0.31188568], dtype=float32), array([0.9892267], dtype=float32), array([0.99022317], dtype=float32), array([0.9923626], dtype=float32), array([0.9683318], dtype=float32), array([0.98794067], dtype=float32), array([0.99055743], dtype=float32), array([0.76220757], dtype=float32), array([0.9902272], dtype=float32), array([0.9926676], dtype=float32), array([0.03022668], dtype=float32), array([0.98348296], dtype=float32), array([0.98965317], dtype=float32), array([0.9772185], dtype=float32), array([0.9827005], dtype=float32), array([0.9627142], dtype=float32), array([0.97474444], dtype=float32), array([0.02498565], dtype=float32), array([0.98635477], dtype=float32), array([0.8561349], dtype=float32), array([0.8699287], dtype=float32), array([0.92943776], dtype=float32), array([0.99002296], dtype=float32), array([0.98470646], dtype=float32), array([0.9842374], dtype=float32), array([0.979162], dtype=float32), array([0.9892267], dtype=float32), array([0.98932564], dtype=float32), array([0.9827639], dtype=float32), array([0.9917303], dtype=float32), array([0.97136074], dtype=float32), array([0.99239033], dtype=float32), array([0.9298507], dtype=float32), array([0.99258184], dtype=float32), array([0.98282844], dtype=float32), array([0.02354277], dtype=float32), array([0.99231875], dtype=float32), array([0.9826391], dtype=float32), array([0.9924568], dtype=float32), array([0.03098367], dtype=float32), array([0.9921794], dtype=float32), array([0.975968], dtype=float32), array([0.9727337], dtype=float32), array([0.9922431], dtype=float32), array([0.9800203], dtype=float32), array([0.95655704], dtype=float32), array([0.9737979], dtype=float32), array([0.7634854], dtype=float32), array([0.9836469], dtype=float32), array([0.99200785], dtype=float32), array([0.9905812], dtype=float32), array([0.1135613], dtype=float32), array([0.9898233], dtype=float32), array([0.99127966], dtype=float32), array([0.02611529], dtype=float32), array([0.9913414], dtype=float32), array([0.99185634], dtype=float32), array([0.9857041], dtype=float32), array([0.9868702], dtype=float32), array([0.99252385], dtype=float32), array([0.02368683], dtype=float32), array([0.9892944], dtype=float32), array([0.9635181], dtype=float32), array([0.99217916], dtype=float32), array([0.99209565], dtype=float32), array([0.02751188], dtype=float32), array([0.0225576], dtype=float32), array([0.03108854], dtype=float32), array([0.98145145], dtype=float32), array([0.98499554], dtype=float32), array([0.9905896], dtype=float32), array([0.9577575], dtype=float32), array([0.16607927], dtype=float32), array([0.02511419], dtype=float32), array([0.97630864], dtype=float32), array([0.77633065], dtype=float32), array([0.9896936], dtype=float32), array([0.99077153], dtype=float32), array([0.979162], dtype=float32), array([0.98170036], dtype=float32), array([0.991999], dtype=float32), array([0.98988694], dtype=float32), array([0.02292378], dtype=float32), array([0.99247783], dtype=float32), array([0.9897788], dtype=float32), array([0.7850415], dtype=float32), array([0.97840273], dtype=float32), array([0.985696], dtype=float32), array([0.99059933], dtype=float32), array([0.992011], dtype=float32), array([0.03185613], dtype=float32), array([0.95435447], dtype=float32), array([0.9923509], dtype=float32), array([0.5504072], dtype=float32), array([0.99223834], dtype=float32), array([0.47949445], dtype=float32), array([0.91410637], dtype=float32), array([0.98963296], dtype=float32), array([0.9555663], dtype=float32), array([0.99194396], dtype=float32), array([0.99045396], dtype=float32), array([0.6549183], dtype=float32), array([0.9442506], dtype=float32), array([0.97784173], dtype=float32), array([0.9860562], dtype=float32), array([0.9926783], dtype=float32), array([0.9866468], dtype=float32), array([0.9708029], dtype=float32), array([0.96387523], dtype=float32), array([0.9904413], dtype=float32), array([0.8959329], dtype=float32), array([0.9877499], dtype=float32), array([0.99158245], dtype=float32), array([0.0234191], dtype=float32), array([0.02495642], dtype=float32), array([0.02509239], dtype=float32), array([0.9861514], dtype=float32), array([0.9903475], dtype=float32), array([0.98917806], dtype=float32), array([0.9924408], dtype=float32), array([0.98490125], dtype=float32), array([0.9905083], dtype=float32), array([0.9616742], dtype=float32), array([0.990717], dtype=float32), array([0.9868579], dtype=float32), array([0.99161845], dtype=float32), array([0.9861849], dtype=float32), array([0.990673], dtype=float32), array([0.98575485], dtype=float32), array([0.9758079], dtype=float32), array([0.19667833], dtype=float32), array([0.4895043], dtype=float32), array([0.9837886], dtype=float32), array([0.09042352], dtype=float32), array([0.8933914], dtype=float32), array([0.9475398], dtype=float32), array([0.02854547], dtype=float32), array([0.12733832], dtype=float32), array([0.9917345], dtype=float32), array([0.9807906], dtype=float32), array([0.97674793], dtype=float32), array([0.9886901], dtype=float32), array([0.02431562], dtype=float32), array([0.9885195], dtype=float32), array([0.9904355], dtype=float32), array([0.99242556], dtype=float32), array([0.95441043], dtype=float32), array([0.98065233], dtype=float32), array([0.99161047], dtype=float32), array([0.9904773], dtype=float32), array([0.36451924], dtype=float32), array([0.9852058], dtype=float32), array([0.0271943], dtype=float32), array([0.97011787], dtype=float32), array([0.98424613], dtype=float32), array([0.9923883], dtype=float32), array([0.9682549], dtype=float32), array([0.03774915], dtype=float32), array([0.9924319], dtype=float32), array([0.94188464], dtype=float32), array([0.99095565], dtype=float32), array([0.98392105], dtype=float32), array([0.9924077], dtype=float32), array([0.9922152], dtype=float32), array([0.9924475], dtype=float32), array([0.9893797], dtype=float32), array([0.98996556], dtype=float32), array([0.9793062], dtype=float32), array([0.9914192], dtype=float32), array([0.9884516], dtype=float32), array([0.9919294], dtype=float32), array([0.27322713], dtype=float32), array([0.9629637], dtype=float32), array([0.9902665], dtype=float32), array([0.98728555], dtype=float32), array([0.97971934], dtype=float32), array([0.9906887], dtype=float32), array([0.86264735], dtype=float32), array([0.9920168], dtype=float32), array([0.76212126], dtype=float32), array([0.9894499], dtype=float32), array([0.9926866], dtype=float32), array([0.9913521], dtype=float32), array([0.05231793], dtype=float32), array([0.98828286], dtype=float32), array([0.05407427], dtype=float32), array([0.97451526], dtype=float32), array([0.9865697], dtype=float32), array([0.9922633], dtype=float32), array([0.99163264], dtype=float32), array([0.98964524], dtype=float32), array([0.97135586], dtype=float32), array([0.9657754], dtype=float32), array([0.9918677], dtype=float32), array([0.9907023], dtype=float32), array([0.9903008], dtype=float32), array([0.9902953], dtype=float32), array([0.02686925], dtype=float32), array([0.971431], dtype=float32), array([0.9921016], dtype=float32), array([0.98822904], dtype=float32), array([0.99272656], dtype=float32), array([0.9592575], dtype=float32), array([0.95995325], dtype=float32), array([0.02851956], dtype=float32), array([0.9832433], dtype=float32), array([0.02465798], dtype=float32), array([0.9921985], dtype=float32), array([0.71458125], dtype=float32), array([0.949664], dtype=float32), array([0.9847497], dtype=float32), array([0.84239006], dtype=float32), array([0.99261475], dtype=float32), array([0.9913043], dtype=float32), array([0.9402011], dtype=float32), array([0.3922071], dtype=float32), array([0.9913122], dtype=float32), array([0.991334], dtype=float32), array([0.9918676], dtype=float32), array([0.9926099], dtype=float32), array([0.9882996], dtype=float32), array([0.93627155], dtype=float32), array([0.9896909], dtype=float32), array([0.987241], dtype=float32), array([0.9782673], dtype=float32), array([0.02510974], dtype=float32), array([0.8340281], dtype=float32), array([0.94536656], dtype=float32), array([0.95226216], dtype=float32), array([0.8869627], dtype=float32), array([0.02316442], dtype=float32), array([0.7510145], dtype=float32), array([0.057239], dtype=float32), array([0.9814015], dtype=float32), array([0.97058076], dtype=float32), array([0.9919593], dtype=float32), array([0.942428], dtype=float32), array([0.8028852], dtype=float32), array([0.99011457], dtype=float32), array([0.9843522], dtype=float32), array([0.9828262], dtype=float32), array([0.9924281], dtype=float32), array([0.9876159], dtype=float32), array([0.02575127], dtype=float32), array([0.9926806], dtype=float32), array([0.33286119], dtype=float32), array([0.9888159], dtype=float32), array([0.070547], dtype=float32), array([0.992467], dtype=float32), array([0.02465305], dtype=float32), array([0.9912068], dtype=float32), array([0.9924615], dtype=float32), array([0.988139], dtype=float32), array([0.9924319], dtype=float32), array([0.9824373], dtype=float32), array([0.03313995], dtype=float32), array([0.0339335], dtype=float32), array([0.7915681], dtype=float32), array([0.9355351], dtype=float32), array([0.03175252], dtype=float32), array([0.02499958], dtype=float32), array([0.9905138], dtype=float32), array([0.99212575], dtype=float32), array([0.9864782], dtype=float32), array([0.97501737], dtype=float32), array([0.9923003], dtype=float32), array([0.02734476], dtype=float32), array([0.9916276], dtype=float32), array([0.06101764], dtype=float32), array([0.9917116], dtype=float32), array([0.99170387], dtype=float32), array([0.99170387], dtype=float32), array([0.9920168], dtype=float32), array([0.9672651], dtype=float32), array([0.46602264], dtype=float32), array([0.9908365], dtype=float32), array([0.9897195], dtype=float32), array([0.9845888], dtype=float32), array([0.9922483], dtype=float32), array([0.9873511], dtype=float32), array([0.9900029], dtype=float32), array([0.9688051], dtype=float32), array([0.91727656], dtype=float32), array([0.9780433], dtype=float32), array([0.95794606], dtype=float32), array([0.02324975], dtype=float32), array([0.97370964], dtype=float32), array([0.97684735], dtype=float32), array([0.98365444], dtype=float32), array([0.8158123], dtype=float32), array([0.99175054], dtype=float32), array([0.9896936], dtype=float32), array([0.9727902], dtype=float32), array([0.981169], dtype=float32), array([0.9909485], dtype=float32), array([0.9798534], dtype=float32), array([0.9920735], dtype=float32), array([0.9805716], dtype=float32), array([0.9877672], dtype=float32), array([0.99158937], dtype=float32), array([0.9923977], dtype=float32), array([0.986741], dtype=float32), array([0.9888476], dtype=float32), array([0.02663341], dtype=float32), array([0.98267704], dtype=float32), array([0.07483088], dtype=float32), array([0.952504], dtype=float32), array([0.98981744], dtype=float32), array([0.89601594], dtype=float32), array([0.8088741], dtype=float32), array([0.9901148], dtype=float32), array([0.9810145], dtype=float32), array([0.98592746], dtype=float32), array([0.9894308], dtype=float32), array([0.9917686], dtype=float32), array([0.9926416], dtype=float32), array([0.9831049], dtype=float32), array([0.9920602], dtype=float32), array([0.9876875], dtype=float32), array([0.8948362], dtype=float32), array([0.9835232], dtype=float32), array([0.05466017], dtype=float32), array([0.942326], dtype=float32), array([0.02626623], dtype=float32), array([0.51904], dtype=float32), array([0.6025226], dtype=float32), array([0.9554272], dtype=float32), array([0.99203086], dtype=float32), array([0.9467286], dtype=float32), array([0.6000815], dtype=float32), array([0.9906707], dtype=float32), array([0.9922666], dtype=float32), array([0.96828485], dtype=float32), array([0.9908109], dtype=float32), array([0.99109155], dtype=float32), array([0.12128533], dtype=float32), array([0.99169123], dtype=float32), array([0.9814875], dtype=float32), array([0.99254286], dtype=float32), array([0.98500943], dtype=float32), array([0.99234736], dtype=float32), array([0.98755836], dtype=float32), array([0.967993], dtype=float32), array([0.9915764], dtype=float32), array([0.9902766], dtype=float32), array([0.6867044], dtype=float32), array([0.17994168], dtype=float32), array([0.97862524], dtype=float32), array([0.99233425], dtype=float32), array([0.9918019], dtype=float32), array([0.98587126], dtype=float32), array([0.992234], dtype=float32), array([0.9907617], dtype=float32), array([0.97958094], dtype=float32), array([0.08168378], dtype=float32), array([0.99197024], dtype=float32), array([0.9925557], dtype=float32), array([0.03006842], dtype=float32), array([0.987046], dtype=float32), array([0.16443829], dtype=float32), array([0.95283264], dtype=float32), array([0.02841283], dtype=float32), array([0.990807], dtype=float32), array([0.99247533], dtype=float32), array([0.9829155], dtype=float32), array([0.9916918], dtype=float32), array([0.99138695], dtype=float32), array([0.99167633], dtype=float32), array([0.98863155], dtype=float32), array([0.05122218], dtype=float32), array([0.04482075], dtype=float32), array([0.9905573], dtype=float32), array([0.9919131], dtype=float32), array([0.945351], dtype=float32), array([0.98701185], dtype=float32), array([0.02484759], dtype=float32), array([0.7753711], dtype=float32), array([0.8960283], dtype=float32), array([0.96253633], dtype=float32), array([0.98934364], dtype=float32), array([0.953209], dtype=float32), array([0.99070895], dtype=float32), array([0.9888586], dtype=float32), array([0.9924797], dtype=float32), array([0.9866346], dtype=float32), array([0.4872213], dtype=float32), array([0.87537014], dtype=float32), array([0.9834515], dtype=float32), array([0.99093175], dtype=float32), array([0.96136373], dtype=float32), array([0.9586745], dtype=float32), array([0.990599], dtype=float32), array([0.9876609], dtype=float32), array([0.9848179], dtype=float32), array([0.02463801], dtype=float32), array([0.98109263], dtype=float32), array([0.0235837], dtype=float32), array([0.99160963], dtype=float32), array([0.98893845], dtype=float32), array([0.99223655], dtype=float32), array([0.37084723], dtype=float32), array([0.990794], dtype=float32), array([0.9911219], dtype=float32), array([0.3353416], dtype=float32), array([0.9891072], dtype=float32), array([0.9863579], dtype=float32), array([0.99137586], dtype=float32), array([0.99023706], dtype=float32), array([0.9780059], dtype=float32), array([0.9925666], dtype=float32), array([0.9802391], dtype=float32), array([0.99206287], dtype=float32), array([0.89352846], dtype=float32), array([0.9886885], dtype=float32), array([0.9878826], dtype=float32), array([0.99198145], dtype=float32), array([0.9871452], dtype=float32), array([0.9833956], dtype=float32), array([0.98687893], dtype=float32), array([0.94123316], dtype=float32), array([0.05272195], dtype=float32), array([0.986896], dtype=float32), array([0.8845083], dtype=float32), array([0.98684895], dtype=float32), array([0.88483495], dtype=float32), array([0.34466392], dtype=float32), array([0.85502505], dtype=float32), array([0.98854196], dtype=float32), array([0.91387576], dtype=float32), array([0.99077564], dtype=float32), array([0.97683275], dtype=float32), array([0.9902458], dtype=float32), array([0.02431511], dtype=float32), array([0.97379977], dtype=float32), array([0.7013669], dtype=float32), array([0.98288924], dtype=float32), array([0.9875825], dtype=float32), array([0.98910135], dtype=float32), array([0.99212575], dtype=float32), array([0.972119], dtype=float32), array([0.9909554], dtype=float32), array([0.98513246], dtype=float32), array([0.98997307], dtype=float32), array([0.76443326], dtype=float32), array([0.85195076], dtype=float32), array([0.988488], dtype=float32), array([0.5006569], dtype=float32), array([0.34248817], dtype=float32), array([0.97806484], dtype=float32), array([0.9763896], dtype=float32), array([0.06147768], dtype=float32), array([0.02761002], dtype=float32), array([0.9751119], dtype=float32), array([0.98807484], dtype=float32), array([0.99228], dtype=float32), array([0.0242328], dtype=float32), array([0.98985577], dtype=float32), array([0.9514464], dtype=float32), array([0.03004728], dtype=float32), array([0.9765045], dtype=float32), array([0.98622894], dtype=float32), array([0.9583628], dtype=float32), array([0.04814964], dtype=float32), array([0.9898499], dtype=float32), array([0.9922299], dtype=float32), array([0.99198276], dtype=float32), array([0.02481303], dtype=float32), array([0.9907382], dtype=float32), array([0.99166226], dtype=float32), array([0.99102974], dtype=float32), array([0.9926408], dtype=float32), array([0.9720395], dtype=float32), array([0.76864773], dtype=float32), array([0.99010813], dtype=float32), array([0.9888622], dtype=float32), array([0.02525879], dtype=float32), array([0.922234], dtype=float32), array([0.9515943], dtype=float32), array([0.98077035], dtype=float32), array([0.9859372], dtype=float32), array([0.98882174], dtype=float32), array([0.98752314], dtype=float32), array([0.951821], dtype=float32), array([0.93176585], dtype=float32), array([0.98832124], dtype=float32), array([0.95147794], dtype=float32), array([0.9799508], dtype=float32), array([0.5563279], dtype=float32), array([0.9919179], dtype=float32), array([0.9753797], dtype=float32), array([0.991888], dtype=float32), array([0.02480654], dtype=float32), array([0.9926322], dtype=float32), array([0.9923707], dtype=float32), array([0.98950666], dtype=float32), array([0.9903384], dtype=float32), array([0.990644], dtype=float32), array([0.04612787], dtype=float32), array([0.9888813], dtype=float32), array([0.9905591], dtype=float32), array([0.8143883], dtype=float32), array([0.94664186], dtype=float32), array([0.989717], dtype=float32), array([0.99243623], dtype=float32), array([0.99257666], dtype=float32), array([0.97575206], dtype=float32), array([0.98218405], dtype=float32), array([0.02450036], dtype=float32), array([0.80866086], dtype=float32), array([0.35248312], dtype=float32), array([0.9926407], dtype=float32), array([0.96635604], dtype=float32), array([0.9924061], dtype=float32), array([0.85623944], dtype=float32), array([0.913662], dtype=float32), array([0.9793783], dtype=float32), array([0.99226415], dtype=float32), array([0.11340981], dtype=float32), array([0.98743165], dtype=float32), array([0.9669668], dtype=float32), array([0.03075043], dtype=float32), array([0.0493401], dtype=float32), array([0.98961604], dtype=float32), array([0.0511991], dtype=float32), array([0.9925176], dtype=float32), array([0.9922914], dtype=float32), array([0.99209785], dtype=float32), array([0.9922776], dtype=float32), array([0.97191125], dtype=float32), array([0.93573326], dtype=float32), array([0.9926179], dtype=float32), array([0.9890393], dtype=float32), array([0.9897591], dtype=float32), array([0.9919559], dtype=float32), array([0.97743225], dtype=float32), array([0.97775877], dtype=float32), array([0.13610174], dtype=float32), array([0.984835], dtype=float32), array([0.5931013], dtype=float32), array([0.9855537], dtype=float32), array([0.99041826], dtype=float32), array([0.04281251], dtype=float32), array([0.97464037], dtype=float32), array([0.9817742], dtype=float32), array([0.98705566], dtype=float32), array([0.97364783], dtype=float32), array([0.9921016], dtype=float32), array([0.76693904], dtype=float32), array([0.94175035], dtype=float32), array([0.03012343], dtype=float32), array([0.03213699], dtype=float32), array([0.98769915], dtype=float32), array([0.9770123], dtype=float32), array([0.99216497], dtype=float32), array([0.97344255], dtype=float32), array([0.99167705], dtype=float32), array([0.9900448], dtype=float32), array([0.9925746], dtype=float32), array([0.99111897], dtype=float32), array([0.9924852], dtype=float32), array([0.97919], dtype=float32), array([0.6420819], dtype=float32), array([0.9816642], dtype=float32), array([0.9754478], dtype=float32), array([0.99051136], dtype=float32), array([0.94339055], dtype=float32), array([0.9917686], dtype=float32), array([0.7029441], dtype=float32), array([0.9851944], dtype=float32), array([0.990644], dtype=float32), array([0.99031067], dtype=float32), array([0.9854166], dtype=float32), array([0.9615908], dtype=float32), array([0.9919951], dtype=float32), array([0.03106054], dtype=float32), array([0.99135184], dtype=float32), array([0.9670493], dtype=float32), array([0.6197437], dtype=float32), array([0.9876106], dtype=float32), array([0.9536508], dtype=float32), array([0.9798794], dtype=float32), array([0.99232954], dtype=float32), array([0.6903805], dtype=float32), array([0.02274351], dtype=float32), array([0.9916176], dtype=float32), array([0.98592746], dtype=float32), array([0.99178106], dtype=float32), array([0.9848947], dtype=float32), array([0.99192303], dtype=float32), array([0.9928663], dtype=float32), array([0.9908159], dtype=float32), array([0.99266386], dtype=float32), array([0.99134606], dtype=float32), array([0.99120647], dtype=float32), array([0.98510134], dtype=float32), array([0.9915799], dtype=float32), array([0.8192675], dtype=float32), array([0.0237701], dtype=float32), array([0.7440466], dtype=float32), array([0.9921393], dtype=float32), array([0.98545223], dtype=float32), array([0.05737224], dtype=float32), array([0.99142236], dtype=float32), array([0.02488367], dtype=float32), array([0.9194942], dtype=float32), array([0.9827284], dtype=float32), array([0.98715276], dtype=float32), array([0.98867714], dtype=float32), array([0.99253124], dtype=float32), array([0.9897625], dtype=float32), array([0.98958313], dtype=float32), array([0.9902182], dtype=float32), array([0.9818318], dtype=float32), array([0.9878582], dtype=float32), array([0.26503247], dtype=float32), array([0.9918138], dtype=float32), array([0.8996534], dtype=float32), array([0.98293006], dtype=float32), array([0.38818863], dtype=float32), array([0.9882537], dtype=float32), array([0.02437194], dtype=float32), array([0.99186456], dtype=float32), array([0.96694607], dtype=float32), array([0.08518962], dtype=float32), array([0.990564], dtype=float32), array([0.94536656], dtype=float32), array([0.9797372], dtype=float32), array([0.02542746], dtype=float32), array([0.02808083], dtype=float32), array([0.9293616], dtype=float32), array([0.9694769], dtype=float32), array([0.9880028], dtype=float32), array([0.98358154], dtype=float32), array([0.9725742], dtype=float32), array([0.99047744], dtype=float32), array([0.9926991], dtype=float32), array([0.7893211], dtype=float32), array([0.02493256], dtype=float32), array([0.9914836], dtype=float32), array([0.99258864], dtype=float32), array([0.9907279], dtype=float32), array([0.9461433], dtype=float32), array([0.02362705], dtype=float32), array([0.977433], dtype=float32), array([0.96225476], dtype=float32), array([0.9847008], dtype=float32), array([0.992132], dtype=float32), array([0.9919417], dtype=float32), array([0.9139329], dtype=float32), array([0.99148303], dtype=float32), array([0.9590852], dtype=float32), array([0.95556664], dtype=float32), array([0.9915269], dtype=float32), array([0.93165874], dtype=float32), array([0.98536104], dtype=float32), array([0.9734552], dtype=float32), array([0.9132015], dtype=float32), array([0.99101603], dtype=float32), array([0.98981726], dtype=float32), array([0.9846538], dtype=float32), array([0.98794055], dtype=float32), array([0.9548778], dtype=float32), array([0.9872083], dtype=float32), array([0.9904179], dtype=float32), array([0.9912128], dtype=float32), array([0.97346956], dtype=float32), array([0.9920515], dtype=float32), array([0.02608021], dtype=float32), array([0.9780969], dtype=float32), array([0.9825668], dtype=float32), array([0.86157084], dtype=float32), array([0.9759068], dtype=float32), array([0.9908477], dtype=float32), array([0.99239266], dtype=float32), array([0.9845902], dtype=float32), array([0.98539954], dtype=float32), array([0.02305018], dtype=float32), array([0.63791007], dtype=float32), array([0.98918545], dtype=float32), array([0.98859847], dtype=float32), array([0.98217666], dtype=float32), array([0.99073213], dtype=float32), array([0.9922043], dtype=float32), array([0.912216], dtype=float32), array([0.98630387], dtype=float32), array([0.9314922], dtype=float32), array([0.0411785], dtype=float32), array([0.99272424], dtype=float32), array([0.9861221], dtype=float32), array([0.24487004], dtype=float32), array([0.06796788], dtype=float32), array([0.9867366], dtype=float32), array([0.9927262], dtype=float32), array([0.9882653], dtype=float32), array([0.9901218], dtype=float32), array([0.9859701], dtype=float32), array([0.9918172], dtype=float32), array([0.02545864], dtype=float32), array([0.9812237], dtype=float32), array([0.98926115], dtype=float32), array([0.9923707], dtype=float32), array([0.98332584], dtype=float32), array([0.9923724], dtype=float32), array([0.9911459], dtype=float32), array([0.9868945], dtype=float32), array([0.9925782], dtype=float32), array([0.9640745], dtype=float32), array([0.97662306], dtype=float32), array([0.9679382], dtype=float32), array([0.67457867], dtype=float32), array([0.02331745], dtype=float32), array([0.9604254], dtype=float32), array([0.991963], dtype=float32), array([0.99246055], dtype=float32), array([0.11857253], dtype=float32), array([0.98856443], dtype=float32), array([0.9771637], dtype=float32), array([0.9834645], dtype=float32), array([0.99190664], dtype=float32), array([0.94224876], dtype=float32), array([0.8393683], dtype=float32), array([0.98763204], dtype=float32), array([0.9894246], dtype=float32), array([0.99144155], dtype=float32), array([0.13390544], dtype=float32), array([0.97988975], dtype=float32), array([0.98832613], dtype=float32), array([0.9914294], dtype=float32), array([0.02408147], dtype=float32), array([0.992796], dtype=float32), array([0.02820203], dtype=float32), array([0.9867389], dtype=float32), array([0.97945386], dtype=float32), array([0.9926959], dtype=float32), array([0.7534263], dtype=float32), array([0.02744266], dtype=float32), array([0.98805016], dtype=float32), array([0.9791725], dtype=float32), array([0.6789609], dtype=float32), array([0.9787066], dtype=float32), array([0.9349706], dtype=float32), array([0.9876738], dtype=float32), array([0.9919618], dtype=float32), array([0.99135476], dtype=float32), array([0.9875966], dtype=float32), array([0.9896381], dtype=float32), array([0.9704549], dtype=float32), array([0.99208105], dtype=float32), array([0.9837479], dtype=float32), array([0.03525198], dtype=float32), array([0.9916298], dtype=float32), array([0.99205726], dtype=float32), array([0.9202168], dtype=float32), array([0.9492395], dtype=float32), array([0.9049381], dtype=float32), array([0.98157954], dtype=float32), array([0.02603399], dtype=float32), array([0.9879169], dtype=float32), array([0.9203598], dtype=float32), array([0.9882653], dtype=float32), array([0.96672094], dtype=float32), array([0.9924368], dtype=float32), array([0.97248703], dtype=float32), array([0.05158386], dtype=float32), array([0.9860745], dtype=float32), array([0.9906571], dtype=float32), array([0.9701821], dtype=float32), array([0.9785608], dtype=float32), array([0.99188304], dtype=float32), array([0.9712686], dtype=float32), array([0.02833588], dtype=float32), array([0.95263755], dtype=float32), array([0.9401786], dtype=float32), array([0.98898005], dtype=float32), array([0.02434826], dtype=float32), array([0.9914609], dtype=float32), array([0.98853415], dtype=float32), array([0.98412675], dtype=float32), array([0.96015245], dtype=float32), array([0.9919722], dtype=float32), array([0.9745847], dtype=float32), array([0.02605224], dtype=float32), array([0.96288943], dtype=float32), array([0.99101853], dtype=float32), array([0.98474646], dtype=float32), array([0.96159923], dtype=float32), array([0.9916248], dtype=float32), array([0.9926692], dtype=float32), array([0.98577327], dtype=float32), array([0.94175357], dtype=float32), array([0.9149489], dtype=float32), array([0.9912913], dtype=float32), array([0.989654], dtype=float32), array([0.99079555], dtype=float32), array([0.9879843], dtype=float32), array([0.97498137], dtype=float32), array([0.99185747], dtype=float32), array([0.03553208], dtype=float32), array([0.98857796], dtype=float32), array([0.9876753], dtype=float32), array([0.09354101], dtype=float32), array([0.990629], dtype=float32), array([0.97833717], dtype=float32), array([0.98391366], dtype=float32), array([0.9678267], dtype=float32), array([0.92115533], dtype=float32), array([0.95718515], dtype=float32), array([0.62428707], dtype=float32), array([0.992415], dtype=float32), array([0.9880691], dtype=float32), array([0.07616512], dtype=float32), array([0.9840853], dtype=float32), array([0.98883563], dtype=float32), array([0.05910413], dtype=float32), array([0.97862077], dtype=float32), array([0.9896947], dtype=float32), array([0.9768488], dtype=float32), array([0.9916585], dtype=float32), array([0.8854899], dtype=float32), array([0.99277085], dtype=float32), array([0.99252844], dtype=float32), array([0.99195635], dtype=float32), array([0.98710257], dtype=float32), array([0.9812502], dtype=float32), array([0.99092287], dtype=float32), array([0.9921342], dtype=float32), array([0.9878356], dtype=float32), array([0.9902441], dtype=float32), array([0.9909995], dtype=float32), array([0.09291697], dtype=float32), array([0.02539803], dtype=float32), array([0.99175686], dtype=float32), array([0.05355076], dtype=float32), array([0.9900649], dtype=float32), array([0.9914773], dtype=float32), array([0.08427207], dtype=float32), array([0.99258035], dtype=float32), array([0.02553519], dtype=float32), array([0.9861091], dtype=float32), array([0.99226975], dtype=float32), array([0.94571173], dtype=float32), array([0.9866346], dtype=float32), array([0.9705066], dtype=float32), array([0.9289248], dtype=float32), array([0.0691212], dtype=float32), array([0.9727834], dtype=float32), array([0.94137496], dtype=float32), array([0.9879596], dtype=float32), array([0.90309846], dtype=float32), array([0.86286783], dtype=float32), array([0.6951995], dtype=float32), array([0.02957463], dtype=float32), array([0.9866297], dtype=float32), array([0.03225901], dtype=float32), array([0.9870018], dtype=float32), array([0.98473465], dtype=float32), array([0.878495], dtype=float32), array([0.9722491], dtype=float32), array([0.9925207], dtype=float32), array([0.6915359], dtype=float32), array([0.45492458], dtype=float32), array([0.99169123], dtype=float32), array([0.97591466], dtype=float32), array([0.9743755], dtype=float32), array([0.98418415], dtype=float32), array([0.9874778], dtype=float32), array([0.97696984], dtype=float32), array([0.9608133], dtype=float32), array([0.9728013], dtype=float32), array([0.97378355], dtype=float32), array([0.99260324], dtype=float32), array([0.98519695], dtype=float32), array([0.9172165], dtype=float32), array([0.04707235], dtype=float32), array([0.98582387], dtype=float32), array([0.9856478], dtype=float32), array([0.11204574], dtype=float32), array([0.9840448], dtype=float32), array([0.02571608], dtype=float32), array([0.13205443], dtype=float32), array([0.02315544], dtype=float32), array([0.96967274], dtype=float32), array([0.98460627], dtype=float32), array([0.7641989], dtype=float32), array([0.84640473], dtype=float32), array([0.9924056], dtype=float32), array([0.9923665], dtype=float32), array([0.9789989], dtype=float32), array([0.9300724], dtype=float32), array([0.9816227], dtype=float32), array([0.99004805], dtype=float32), array([0.04222082], dtype=float32), array([0.02961356], dtype=float32), array([0.99075586], dtype=float32), array([0.96204126], dtype=float32), array([0.9910206], dtype=float32), array([0.9270688], dtype=float32), array([0.9868868], dtype=float32), array([0.8081245], dtype=float32), array([0.9833365], dtype=float32), array([0.99241465], dtype=float32), array([0.99163], dtype=float32), array([0.990629], dtype=float32), array([0.02585196], dtype=float32), array([0.9788438], dtype=float32), array([0.11998733], dtype=float32), array([0.02474843], dtype=float32), array([0.98443294], dtype=float32), array([0.74877787], dtype=float32), array([0.7985602], dtype=float32), array([0.66314024], dtype=float32), array([0.46438557], dtype=float32), array([0.02507198], dtype=float32), array([0.9843343], dtype=float32), array([0.99076325], dtype=float32), array([0.976942], dtype=float32), array([0.991148], dtype=float32), array([0.02301425], dtype=float32), array([0.9872837], dtype=float32), array([0.8681893], dtype=float32), array([0.9923062], dtype=float32), array([0.9910495], dtype=float32), array([0.98633236], dtype=float32), array([0.04442138], dtype=float32), array([0.9779288], dtype=float32), array([0.98332584], dtype=float32), array([0.9922087], dtype=float32), array([0.99039805], dtype=float32), array([0.95148635], dtype=float32), array([0.99102974], dtype=float32), array([0.9191029], dtype=float32), array([0.98137695], dtype=float32), array([0.98924387], dtype=float32), array([0.9674404], dtype=float32), array([0.9822348], dtype=float32), array([0.9857631], dtype=float32), array([0.9782451], dtype=float32), array([0.51181084], dtype=float32), array([0.9665991], dtype=float32), array([0.14927517], dtype=float32), array([0.983334], dtype=float32), array([0.9619872], dtype=float32), array([0.96086115], dtype=float32), array([0.9871251], dtype=float32), array([0.99063313], dtype=float32), array([0.9820508], dtype=float32), array([0.99072546], dtype=float32), array([0.9912443], dtype=float32), array([0.0238228], dtype=float32), array([0.02591423], dtype=float32), array([0.99209654], dtype=float32), array([0.02341837], dtype=float32), array([0.99242836], dtype=float32), array([0.9880485], dtype=float32), array([0.9879533], dtype=float32), array([0.97163796], dtype=float32), array([0.8452864], dtype=float32), array([0.9480612], dtype=float32), array([0.9882891], dtype=float32), array([0.7929356], dtype=float32), array([0.80982715], dtype=float32), array([0.9667642], dtype=float32), array([0.97130877], dtype=float32), array([0.9877694], dtype=float32), array([0.56060624], dtype=float32), array([0.9924191], dtype=float32), array([0.9905194], dtype=float32), array([0.99085945], dtype=float32), array([0.991267], dtype=float32), array([0.14288543], dtype=float32), array([0.9925281], dtype=float32), array([0.98662263], dtype=float32), array([0.98559964], dtype=float32), array([0.89666194], dtype=float32), array([0.989288], dtype=float32), array([0.9393232], dtype=float32), array([0.03903823], dtype=float32), array([0.8576698], dtype=float32), array([0.9817962], dtype=float32), array([0.88124996], dtype=float32), array([0.9925057], dtype=float32), array([0.02500176], dtype=float32), array([0.9882726], dtype=float32), array([0.98063546], dtype=float32), array([0.5755691], dtype=float32), array([0.99236673], dtype=float32), array([0.03259967], dtype=float32), array([0.9914881], dtype=float32), array([0.98005843], dtype=float32), array([0.33743915], dtype=float32), array([0.9870811], dtype=float32), array([0.9912053], dtype=float32), array([0.98984015], dtype=float32)]\n"
     ]
    }
   ],
   "source": [
    "# Test Dataset\n",
    "test_dataset = ToxicCommentsDataset(x_test)\n",
    "\n",
    "test_loader = DataLoader(test_dataset, batch_size=32)\n",
    "\n",
    "# Prediction\n",
    "model.eval()\n",
    "predictions = []\n",
    "\n",
    "with torch.no_grad():\n",
    "    for batch in valid_loader:\n",
    "        input_ids = batch['input_ids'].to(device)\n",
    "        attention_mask = batch['attention_mask'].to(device)\n",
    "        \n",
    "        outputs = model(input_ids, attention_mask=attention_mask)\n",
    "        preds = torch.sigmoid(outputs.logits).cpu().numpy()\n",
    "        predictions.extend(preds)\n",
    "\n",
    "# Convert predictions to a binary format if needed\n",
    "# binary_predictions = [1 if pred >= 0.5 else 0 for pred in predictions]\n",
    "print(predictions)"
   ]
  },
  {
   "cell_type": "code",
   "execution_count": 147,
   "metadata": {},
   "outputs": [],
   "source": [
    "def test_model(model, test_loader, device):\n",
    "    model.eval()  # Set the model to evaluation mode\n",
    "    total_correct = 0\n",
    "    total_samples = 0\n",
    "    total_loss = 0\n",
    "\n",
    "    with torch.no_grad():  # Disable gradient computation\n",
    "        for batch in test_loader:\n",
    "            input_ids = batch['input_ids'].to(device)\n",
    "            attention_mask = batch['attention_mask'].to(device)\n",
    "            labels = batch['labels'].unsqueeze(1).float().to(device)\n",
    "            \n",
    "            outputs = model(input_ids, attention_mask=attention_mask)\n",
    "            loss = loss_fn(outputs.logits, labels)\n",
    "            total_loss += loss.item()\n",
    "\n",
    "            # Get predicted class (binary classification: 0 or 1)\n",
    "            preds = torch.sigmoid(outputs.logits)\n",
    "            preds = (preds > 0.5).float()\n",
    "\n",
    "            # Calculate the number of correct predictions\n",
    "            total_correct += (preds == labels).sum().item()\n",
    "            total_samples += labels.size(0)\n",
    "\n",
    "    # Compute the average loss and accuracy\n",
    "    avg_loss = total_loss / len(test_loader)\n",
    "    accuracy = total_correct / total_samples\n",
    "    print(f\"Test Loss: {avg_loss:.4f}, Test Accuracy: {accuracy:.4f}\")\n",
    "\n",
    "    return avg_loss, accuracy"
   ]
  },
  {
   "cell_type": "code",
   "execution_count": 151,
   "metadata": {},
   "outputs": [
    {
     "ename": "TypeError",
     "evalue": "object of type 'NoneType' has no len()",
     "output_type": "error",
     "traceback": [
      "\u001b[1;31m---------------------------------------------------------------------------\u001b[0m",
      "\u001b[1;31mTypeError\u001b[0m                                 Traceback (most recent call last)",
      "Cell \u001b[1;32mIn[151], line 1\u001b[0m\n\u001b[1;32m----> 1\u001b[0m test_loss, test_accuracy \u001b[38;5;241m=\u001b[39m \u001b[43mtest_model\u001b[49m\u001b[43m(\u001b[49m\u001b[43mmodel\u001b[49m\u001b[43m,\u001b[49m\u001b[43m \u001b[49m\u001b[43mtest_loader\u001b[49m\u001b[43m,\u001b[49m\u001b[43m \u001b[49m\u001b[38;5;124;43m'\u001b[39;49m\u001b[38;5;124;43mcpu\u001b[39;49m\u001b[38;5;124;43m'\u001b[39;49m\u001b[43m)\u001b[49m\n",
      "Cell \u001b[1;32mIn[147], line 8\u001b[0m, in \u001b[0;36mtest_model\u001b[1;34m(model, test_loader, device)\u001b[0m\n\u001b[0;32m      5\u001b[0m total_loss \u001b[38;5;241m=\u001b[39m \u001b[38;5;241m0\u001b[39m\n\u001b[0;32m      7\u001b[0m \u001b[38;5;28;01mwith\u001b[39;00m torch\u001b[38;5;241m.\u001b[39mno_grad():  \u001b[38;5;66;03m# Disable gradient computation\u001b[39;00m\n\u001b[1;32m----> 8\u001b[0m \u001b[43m    \u001b[49m\u001b[38;5;28;43;01mfor\u001b[39;49;00m\u001b[43m \u001b[49m\u001b[43mbatch\u001b[49m\u001b[43m \u001b[49m\u001b[38;5;129;43;01min\u001b[39;49;00m\u001b[43m \u001b[49m\u001b[43mtest_loader\u001b[49m\u001b[43m:\u001b[49m\n\u001b[0;32m      9\u001b[0m \u001b[43m        \u001b[49m\u001b[43minput_ids\u001b[49m\u001b[43m \u001b[49m\u001b[38;5;241;43m=\u001b[39;49m\u001b[43m \u001b[49m\u001b[43mbatch\u001b[49m\u001b[43m[\u001b[49m\u001b[38;5;124;43m'\u001b[39;49m\u001b[38;5;124;43minput_ids\u001b[39;49m\u001b[38;5;124;43m'\u001b[39;49m\u001b[43m]\u001b[49m\u001b[38;5;241;43m.\u001b[39;49m\u001b[43mto\u001b[49m\u001b[43m(\u001b[49m\u001b[43mdevice\u001b[49m\u001b[43m)\u001b[49m\n\u001b[0;32m     10\u001b[0m \u001b[43m        \u001b[49m\u001b[43mattention_mask\u001b[49m\u001b[43m \u001b[49m\u001b[38;5;241;43m=\u001b[39;49m\u001b[43m \u001b[49m\u001b[43mbatch\u001b[49m\u001b[43m[\u001b[49m\u001b[38;5;124;43m'\u001b[39;49m\u001b[38;5;124;43mattention_mask\u001b[39;49m\u001b[38;5;124;43m'\u001b[39;49m\u001b[43m]\u001b[49m\u001b[38;5;241;43m.\u001b[39;49m\u001b[43mto\u001b[49m\u001b[43m(\u001b[49m\u001b[43mdevice\u001b[49m\u001b[43m)\u001b[49m\n",
      "File \u001b[1;32md:\\ML\\Intel\\.conda\\Lib\\site-packages\\torch\\utils\\data\\dataloader.py:630\u001b[0m, in \u001b[0;36m_BaseDataLoaderIter.__next__\u001b[1;34m(self)\u001b[0m\n\u001b[0;32m    627\u001b[0m \u001b[38;5;28;01mif\u001b[39;00m \u001b[38;5;28mself\u001b[39m\u001b[38;5;241m.\u001b[39m_sampler_iter \u001b[38;5;129;01mis\u001b[39;00m \u001b[38;5;28;01mNone\u001b[39;00m:\n\u001b[0;32m    628\u001b[0m     \u001b[38;5;66;03m# TODO(https://github.com/pytorch/pytorch/issues/76750)\u001b[39;00m\n\u001b[0;32m    629\u001b[0m     \u001b[38;5;28mself\u001b[39m\u001b[38;5;241m.\u001b[39m_reset()  \u001b[38;5;66;03m# type: ignore[call-arg]\u001b[39;00m\n\u001b[1;32m--> 630\u001b[0m data \u001b[38;5;241m=\u001b[39m \u001b[38;5;28;43mself\u001b[39;49m\u001b[38;5;241;43m.\u001b[39;49m\u001b[43m_next_data\u001b[49m\u001b[43m(\u001b[49m\u001b[43m)\u001b[49m\n\u001b[0;32m    631\u001b[0m \u001b[38;5;28mself\u001b[39m\u001b[38;5;241m.\u001b[39m_num_yielded \u001b[38;5;241m+\u001b[39m\u001b[38;5;241m=\u001b[39m \u001b[38;5;241m1\u001b[39m\n\u001b[0;32m    632\u001b[0m \u001b[38;5;28;01mif\u001b[39;00m \u001b[38;5;28mself\u001b[39m\u001b[38;5;241m.\u001b[39m_dataset_kind \u001b[38;5;241m==\u001b[39m _DatasetKind\u001b[38;5;241m.\u001b[39mIterable \u001b[38;5;129;01mand\u001b[39;00m \\\n\u001b[0;32m    633\u001b[0m         \u001b[38;5;28mself\u001b[39m\u001b[38;5;241m.\u001b[39m_IterableDataset_len_called \u001b[38;5;129;01mis\u001b[39;00m \u001b[38;5;129;01mnot\u001b[39;00m \u001b[38;5;28;01mNone\u001b[39;00m \u001b[38;5;129;01mand\u001b[39;00m \\\n\u001b[0;32m    634\u001b[0m         \u001b[38;5;28mself\u001b[39m\u001b[38;5;241m.\u001b[39m_num_yielded \u001b[38;5;241m>\u001b[39m \u001b[38;5;28mself\u001b[39m\u001b[38;5;241m.\u001b[39m_IterableDataset_len_called:\n",
      "File \u001b[1;32md:\\ML\\Intel\\.conda\\Lib\\site-packages\\torch\\utils\\data\\dataloader.py:672\u001b[0m, in \u001b[0;36m_SingleProcessDataLoaderIter._next_data\u001b[1;34m(self)\u001b[0m\n\u001b[0;32m    671\u001b[0m \u001b[38;5;28;01mdef\u001b[39;00m \u001b[38;5;21m_next_data\u001b[39m(\u001b[38;5;28mself\u001b[39m):\n\u001b[1;32m--> 672\u001b[0m     index \u001b[38;5;241m=\u001b[39m \u001b[38;5;28;43mself\u001b[39;49m\u001b[38;5;241;43m.\u001b[39;49m\u001b[43m_next_index\u001b[49m\u001b[43m(\u001b[49m\u001b[43m)\u001b[49m  \u001b[38;5;66;03m# may raise StopIteration\u001b[39;00m\n\u001b[0;32m    673\u001b[0m     data \u001b[38;5;241m=\u001b[39m \u001b[38;5;28mself\u001b[39m\u001b[38;5;241m.\u001b[39m_dataset_fetcher\u001b[38;5;241m.\u001b[39mfetch(index)  \u001b[38;5;66;03m# may raise StopIteration\u001b[39;00m\n\u001b[0;32m    674\u001b[0m     \u001b[38;5;28;01mif\u001b[39;00m \u001b[38;5;28mself\u001b[39m\u001b[38;5;241m.\u001b[39m_pin_memory:\n",
      "File \u001b[1;32md:\\ML\\Intel\\.conda\\Lib\\site-packages\\torch\\utils\\data\\dataloader.py:620\u001b[0m, in \u001b[0;36m_BaseDataLoaderIter._next_index\u001b[1;34m(self)\u001b[0m\n\u001b[0;32m    619\u001b[0m \u001b[38;5;28;01mdef\u001b[39;00m \u001b[38;5;21m_next_index\u001b[39m(\u001b[38;5;28mself\u001b[39m):\n\u001b[1;32m--> 620\u001b[0m     \u001b[38;5;28;01mreturn\u001b[39;00m \u001b[38;5;28;43mnext\u001b[39;49m\u001b[43m(\u001b[49m\u001b[38;5;28;43mself\u001b[39;49m\u001b[38;5;241;43m.\u001b[39;49m\u001b[43m_sampler_iter\u001b[49m\u001b[43m)\u001b[49m\n",
      "File \u001b[1;32md:\\ML\\Intel\\.conda\\Lib\\site-packages\\torch\\utils\\data\\sampler.py:288\u001b[0m, in \u001b[0;36mBatchSampler.__iter__\u001b[1;34m(self)\u001b[0m\n\u001b[0;32m    286\u001b[0m batch \u001b[38;5;241m=\u001b[39m [\u001b[38;5;241m0\u001b[39m] \u001b[38;5;241m*\u001b[39m \u001b[38;5;28mself\u001b[39m\u001b[38;5;241m.\u001b[39mbatch_size\n\u001b[0;32m    287\u001b[0m idx_in_batch \u001b[38;5;241m=\u001b[39m \u001b[38;5;241m0\u001b[39m\n\u001b[1;32m--> 288\u001b[0m \u001b[43m\u001b[49m\u001b[38;5;28;43;01mfor\u001b[39;49;00m\u001b[43m \u001b[49m\u001b[43midx\u001b[49m\u001b[43m \u001b[49m\u001b[38;5;129;43;01min\u001b[39;49;00m\u001b[43m \u001b[49m\u001b[38;5;28;43mself\u001b[39;49m\u001b[38;5;241;43m.\u001b[39;49m\u001b[43msampler\u001b[49m\u001b[43m:\u001b[49m\n\u001b[0;32m    289\u001b[0m \u001b[43m    \u001b[49m\u001b[43mbatch\u001b[49m\u001b[43m[\u001b[49m\u001b[43midx_in_batch\u001b[49m\u001b[43m]\u001b[49m\u001b[43m \u001b[49m\u001b[38;5;241;43m=\u001b[39;49m\u001b[43m \u001b[49m\u001b[43midx\u001b[49m\n\u001b[0;32m    290\u001b[0m \u001b[43m    \u001b[49m\u001b[43midx_in_batch\u001b[49m\u001b[43m \u001b[49m\u001b[38;5;241;43m+\u001b[39;49m\u001b[38;5;241;43m=\u001b[39;49m\u001b[43m \u001b[49m\u001b[38;5;241;43m1\u001b[39;49m\n",
      "File \u001b[1;32md:\\ML\\Intel\\.conda\\Lib\\site-packages\\torch\\utils\\data\\sampler.py:112\u001b[0m, in \u001b[0;36mSequentialSampler.__iter__\u001b[1;34m(self)\u001b[0m\n\u001b[0;32m    111\u001b[0m \u001b[38;5;28;01mdef\u001b[39;00m \u001b[38;5;21m__iter__\u001b[39m(\u001b[38;5;28mself\u001b[39m) \u001b[38;5;241m-\u001b[39m\u001b[38;5;241m>\u001b[39m Iterator[\u001b[38;5;28mint\u001b[39m]:\n\u001b[1;32m--> 112\u001b[0m     \u001b[38;5;28;01mreturn\u001b[39;00m \u001b[38;5;28miter\u001b[39m(\u001b[38;5;28mrange\u001b[39m(\u001b[38;5;28;43mlen\u001b[39;49m\u001b[43m(\u001b[49m\u001b[38;5;28;43mself\u001b[39;49m\u001b[38;5;241;43m.\u001b[39;49m\u001b[43mdata_source\u001b[49m\u001b[43m)\u001b[49m))\n",
      "Cell \u001b[1;32mIn[128], line 14\u001b[0m, in \u001b[0;36mToxicCommentsDataset.__len__\u001b[1;34m(self)\u001b[0m\n\u001b[0;32m     13\u001b[0m \u001b[38;5;28;01mdef\u001b[39;00m \u001b[38;5;21m__len__\u001b[39m(\u001b[38;5;28mself\u001b[39m):\n\u001b[1;32m---> 14\u001b[0m     \u001b[38;5;28;01mreturn\u001b[39;00m \u001b[38;5;28;43mlen\u001b[39;49m\u001b[43m(\u001b[49m\u001b[38;5;28;43mself\u001b[39;49m\u001b[38;5;241;43m.\u001b[39;49m\u001b[43mlabels\u001b[49m\u001b[43m)\u001b[49m\n",
      "\u001b[1;31mTypeError\u001b[0m: object of type 'NoneType' has no len()"
     ]
    }
   ],
   "source": [
    "test_loss, test_accuracy = test_model(model, test_loader, 'cpu')"
   ]
  },
  {
   "cell_type": "code",
   "execution_count": null,
   "metadata": {},
   "outputs": [],
   "source": []
  }
 ],
 "metadata": {
  "kernelspec": {
   "display_name": "Python 3",
   "language": "python",
   "name": "python3"
  },
  "language_info": {
   "codemirror_mode": {
    "name": "ipython",
    "version": 3
   },
   "file_extension": ".py",
   "mimetype": "text/x-python",
   "name": "python",
   "nbconvert_exporter": "python",
   "pygments_lexer": "ipython3",
   "version": "3.12.5"
  }
 },
 "nbformat": 4,
 "nbformat_minor": 2
}
