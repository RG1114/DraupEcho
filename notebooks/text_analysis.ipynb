{
 "cells": [
  {
   "cell_type": "code",
   "execution_count": null,
   "metadata": {},
   "outputs": [],
   "source": [
    "import pandas as pd\n",
    "import torch\n",
    "from torch.utils.data import Dataset, DataLoader\n",
    "from transformers import DistilBertTokenizer, DistilBertForSequenceClassification, AdamW\n",
    "from transformers import get_linear_schedule_with_warmup\n",
    "from tqdm import tqdm"
   ]
  },
  {
   "cell_type": "code",
   "execution_count": 2,
   "metadata": {},
   "outputs": [],
   "source": [
    "# Load data\n",
    "dataset = pd.read_csv(\"jigsaw-toxic-comment-train.csv\")\n"
   ]
  },
  {
   "cell_type": "code",
   "execution_count": null,
   "metadata": {},
   "outputs": [],
   "source": [
    "dataset.shape"
   ]
  },
  {
   "cell_type": "code",
   "execution_count": 4,
   "metadata": {},
   "outputs": [],
   "source": [
    "g_classes = ['toxic', 'severe_toxic', 'obscene', 'threat', 'insult', 'identity_hate','neutral']"
   ]
  },
  {
   "cell_type": "code",
   "execution_count": 5,
   "metadata": {},
   "outputs": [],
   "source": [
    "classes = ['Safe','Dangerous']"
   ]
  },
  {
   "cell_type": "code",
   "execution_count": 6,
   "metadata": {},
   "outputs": [],
   "source": [
    "dataset['neutral'] = ((dataset[['toxic', 'severe_toxic', 'obscene', 'threat', 'insult', 'identity_hate']].sum(axis=1) == 0).astype(int))"
   ]
  },
  {
   "cell_type": "code",
   "execution_count": null,
   "metadata": {},
   "outputs": [],
   "source": [
    "class_counts = dataset[g_classes].sum()\n",
    "print(class_counts)"
   ]
  },
  {
   "cell_type": "code",
   "execution_count": 8,
   "metadata": {},
   "outputs": [],
   "source": [
    "# Assuming `df` is your DataFrame\n",
    "def classify(row):\n",
    "    \n",
    "    if row['severe_toxic'] == 1 or row['threat'] == 1 or row['insult'] == 1 or row['identity_hate'] == 1 or row['toxic'] == 1 or row['obscene'] == 1:\n",
    "        return 1\n",
    "\n",
    "    elif row['neutral'] == 1:\n",
    "        return 0\n",
    "    \n",
    "    return 0\n",
    "\n",
    "dataset['Dangerous'] = dataset.apply(lambda row: pd.Series(classify(row)), axis=1)\n"
   ]
  },
  {
   "cell_type": "code",
   "execution_count": 9,
   "metadata": {},
   "outputs": [],
   "source": [
    "dataset.drop(columns=g_classes,axis=1,inplace=True)"
   ]
  },
  {
   "cell_type": "code",
   "execution_count": null,
   "metadata": {},
   "outputs": [],
   "source": [
    "dataset.head(20)"
   ]
  },
  {
   "cell_type": "code",
   "execution_count": 11,
   "metadata": {},
   "outputs": [],
   "source": [
    "# Separate the data by class\n",
    "df = pd.DataFrame()\n",
    "\n",
    "class_0 = dataset[dataset['Dangerous'] == 0]\n",
    "class_1 = dataset[dataset['Dangerous'] == 1]\n",
    "\n",
    "# Randomly sample 10,000 cases from each class\n",
    "sample_class_0 = class_0.sample(n=10000, random_state=42)\n",
    "sample_class_1 = class_1.sample(n=10000, random_state=42)\n",
    "\n",
    "# Combine the samples into a new DataFrame\n",
    "df = pd.concat([sample_class_0, sample_class_1])\n",
    "\n",
    "# Optionally shuffle the data\n",
    "df = df.sample(frac=1, random_state=42).reset_index(drop=True)"
   ]
  },
  {
   "cell_type": "code",
   "execution_count": null,
   "metadata": {},
   "outputs": [],
   "source": [
    "class_counts = df['Dangerous'].sum()\n",
    "print(class_counts)"
   ]
  },
  {
   "cell_type": "code",
   "execution_count": 13,
   "metadata": {},
   "outputs": [],
   "source": [
    "import re\n",
    "\n",
    "def preprocess_text(text):\n",
    "    # Basic text preprocessing\n",
    "    text = text.lower()  # Lowercase text\n",
    "    text = re.sub(r'[^a-zA-Z0-9\\s]', '', text)  # Remove special characters\n",
    "    text = re.sub(r'\\s+', ' ', text).strip()  # Remove extra whitespace\n",
    "    return text\n",
    "\n",
    "# Apply preprocessing on your dataset\n",
    "df['comment_text'] = df['comment_text'].apply(preprocess_text)"
   ]
  },
  {
   "cell_type": "code",
   "execution_count": null,
   "metadata": {},
   "outputs": [],
   "source": [
    "df.head()\n"
   ]
  },
  {
   "cell_type": "code",
   "execution_count": 15,
   "metadata": {},
   "outputs": [],
   "source": [
    "df.to_csv('preprocessed_data')"
   ]
  },
  {
   "cell_type": "code",
   "execution_count": 16,
   "metadata": {},
   "outputs": [],
   "source": [
    "df = pd.read_csv('preprocessed_data')\n"
   ]
  },
  {
   "cell_type": "code",
   "execution_count": 17,
   "metadata": {},
   "outputs": [],
   "source": [
    "texts = ['comment_text']\n",
    "label = ['Dangerous']"
   ]
  },
  {
   "cell_type": "code",
   "execution_count": 18,
   "metadata": {},
   "outputs": [],
   "source": [
    "from sklearn.model_selection import train_test_split\n",
    "X = pd.DataFrame(df.drop(columns=label))\n",
    "y = pd.DataFrame(df.drop(columns=texts))\n",
    "X_train,X_eval_test,y_train,y_eval_test = train_test_split(X,y,test_size = 0.5,random_state=42)\n",
    "X_val,X_test,y_val,y_test = train_test_split(X_eval_test,y_eval_test,test_size=0.5,random_state=42)"
   ]
  },
  {
   "cell_type": "code",
   "execution_count": null,
   "metadata": {},
   "outputs": [],
   "source": [
    "print((X_train).shape)\n",
    "print((X_val).shape)\n",
    "print((X_test).shape)\n"
   ]
  },
  {
   "cell_type": "code",
   "execution_count": 20,
   "metadata": {},
   "outputs": [],
   "source": [
    "# Load the tokenizer\n",
    "tokenizer = DistilBertTokenizer.from_pretrained('distilbert-base-multilingual-cased')"
   ]
  },
  {
   "cell_type": "code",
   "execution_count": 21,
   "metadata": {},
   "outputs": [],
   "source": [
    "# Tokenization function using Hugging Face tokenizer\n",
    "def encode_texts(texts, tokenizer, maxlen=512):\n",
    "    return tokenizer(\n",
    "        texts.tolist(),\n",
    "        padding=True,\n",
    "        truncation=True,\n",
    "        max_length=maxlen,\n",
    "        return_tensors='pt'\n",
    "    )\n"
   ]
  },
  {
   "cell_type": "code",
   "execution_count": 22,
   "metadata": {},
   "outputs": [],
   "source": [
    "# Encode datasets\n",
    "x_train = encode_texts(X_train.comment_text.astype(str), tokenizer, maxlen=192)\n",
    "x_valid = encode_texts(X_val.comment_text.astype(str), tokenizer, maxlen=192)\n",
    "x_test = encode_texts(X_test.comment_text.astype(str), tokenizer, maxlen=192)"
   ]
  },
  {
   "cell_type": "code",
   "execution_count": null,
   "metadata": {},
   "outputs": [],
   "source": [
    "y.columns"
   ]
  },
  {
   "cell_type": "code",
   "execution_count": 24,
   "metadata": {},
   "outputs": [],
   "source": [
    "y_train = torch.tensor(y_train[label].values)\n",
    "y_valid = torch.tensor(y_val[label].values)\n",
    "y_test = torch.tensor(y_test[label].values)"
   ]
  },
  {
   "cell_type": "code",
   "execution_count": null,
   "metadata": {},
   "outputs": [],
   "source": [
    "x_test"
   ]
  },
  {
   "cell_type": "code",
   "execution_count": 26,
   "metadata": {},
   "outputs": [],
   "source": [
    "# Custom dataset class\n",
    "class ToxicCommentsDataset(Dataset):\n",
    "    def __init__(self, encodings, labels=None):\n",
    "        self.encodings = encodings\n",
    "        self.labels = labels\n",
    "\n",
    "    def __getitem__(self, idx):\n",
    "        item = {key: val[idx] for key, val in self.encodings.items()}\n",
    "        if self.labels is not None:\n",
    "            item['labels'] = self.labels[idx]\n",
    "        return item\n",
    "\n",
    "    def __len__(self):\n",
    "        return len(self.labels)"
   ]
  },
  {
   "cell_type": "code",
   "execution_count": 27,
   "metadata": {},
   "outputs": [],
   "source": [
    "# Dataset and Dataloader\n",
    "train_dataset = ToxicCommentsDataset(x_train, y_train)\n",
    "valid_dataset = ToxicCommentsDataset(x_valid, y_valid)\n",
    "\n",
    "train_loader = DataLoader(train_dataset, batch_size=16)  # Try reducing batch size\n",
    "valid_loader = DataLoader(valid_dataset, batch_size=16)\n"
   ]
  },
  {
   "cell_type": "code",
   "execution_count": null,
   "metadata": {},
   "outputs": [],
   "source": [
    "# Load pre-trained BERT model\n",
    "model = DistilBertForSequenceClassification.from_pretrained(\n",
    "    'distilbert-base-multilingual-cased',\n",
    "    num_labels=1\n",
    ")"
   ]
  },
  {
   "cell_type": "code",
   "execution_count": null,
   "metadata": {},
   "outputs": [],
   "source": [
    "# Optimizer and Scheduler\n",
    "optimizer = AdamW(model.parameters(), lr=1e-4)\n",
    "total_steps = len(train_loader) * 3  \n",
    "scheduler = get_linear_schedule_with_warmup(optimizer, \n",
    "                                            num_warmup_steps=0, \n",
    "                                            num_training_steps=total_steps)\n",
    "\n",
    "# Loss function\n",
    "loss_fn = torch.nn.BCEWithLogitsLoss()"
   ]
  },
  {
   "cell_type": "code",
   "execution_count": 30,
   "metadata": {},
   "outputs": [],
   "source": [
    "# Training loop\n",
    "def train_epoch(model, dataloader, optimizer, device, scheduler, loss_fn):\n",
    "    model.train()  # Set the model to training mode\n",
    "    total_loss = 0  # Track total loss for the epoch\n",
    "    correct_predictions = 0  # Track correct predictions (if needed for accuracy)\n",
    "    \n",
    "    # Iterate through the dataloader batches\n",
    "    for batch in tqdm(dataloader):\n",
    "        optimizer.zero_grad()  # Zero the gradients before each batch\n",
    "\n",
    "        # Move inputs and labels to the GPU (or CPU if no GPU)\n",
    "        input_ids = batch['input_ids'].to(device)\n",
    "        attention_mask = batch['attention_mask'].to(device)\n",
    "        labels = batch['labels'].squeeze(1).float().to(device)  # Ensure labels are float type\n",
    "        \n",
    "        # Forward pass through the model\n",
    "        outputs = model(input_ids, attention_mask=attention_mask)\n",
    "        \n",
    "        # Compute the loss between model predictions and actual labels\n",
    "        loss = loss_fn(outputs.logits.squeeze(1), labels)  # Squeeze outputs to match labels\n",
    "        total_loss += loss.item()  # Accumulate total loss\n",
    "        \n",
    "        # Backward pass and optimization step\n",
    "        loss.backward()\n",
    "        optimizer.step()\n",
    "        scheduler.step()\n",
    "\n",
    "    # Compute average loss over the epoch\n",
    "    avg_loss = total_loss / len(dataloader)\n",
    "    \n",
    "    return avg_loss"
   ]
  },
  {
   "cell_type": "code",
   "execution_count": 31,
   "metadata": {},
   "outputs": [],
   "source": [
    "def eval_model(model, dataloader, device, loss_fn):\n",
    "    model.eval()  # Set model to evaluation mode\n",
    "    total_loss = 0\n",
    "    correct_predictions = 0\n",
    "    total_samples = 0\n",
    "\n",
    "    with torch.no_grad():  # Disable gradient calculation for evaluation\n",
    "        for batch in dataloader:\n",
    "            # Move inputs and labels to the GPU (or CPU if no GPU)\n",
    "            input_ids = batch['input_ids'].to(device)\n",
    "            attention_mask = batch['attention_mask'].to(device)\n",
    "            labels = batch['labels'].squeeze(1).float().to(device)\n",
    "\n",
    "            print(f'Input IDs shape: {input_ids.shape}, Attention Mask shape: {attention_mask.shape}, Labels shape: {labels.shape}')  # Debugging shapes\n",
    "\n",
    "            # Forward pass through the model\n",
    "            outputs = model(input_ids, attention_mask=attention_mask)\n",
    "\n",
    "            print(f'Output shape: {outputs.logits.shape}')  # Debugging output shape\n",
    "\n",
    "            # Compute the loss\n",
    "            loss = loss_fn(outputs.logits.squeeze(1), labels)  # Squeeze outputs to match labels\n",
    "            total_loss += loss.item()\n",
    "\n",
    "            # Apply sigmoid to logits to get probabilities and threshold to get binary predictions\n",
    "            preds = torch.sigmoid(outputs.logits.squeeze(1))  # Squeeze preds to match labels\n",
    "            preds = (preds > 0.75).float()  # Convert probabilities to binary (0 or 1)\n",
    "\n",
    "            # Calculate correct predictions\n",
    "            correct_predictions += (preds == labels).sum().item()\n",
    "            total_samples += labels.size(0)\n",
    "\n",
    "    avg_loss = total_loss / len(dataloader)  # Average loss over the dataloader\n",
    "    accuracy = correct_predictions / total_samples if total_samples > 0 else 0  # Compute accuracy\n",
    "    return avg_loss, accuracy\n"
   ]
  },
  {
   "cell_type": "code",
   "execution_count": 32,
   "metadata": {},
   "outputs": [],
   "source": [
    "device = 'cpu'"
   ]
  },
  {
   "cell_type": "code",
   "execution_count": null,
   "metadata": {},
   "outputs": [],
   "source": [
    "# Assuming your training loop is already defined as you provided\n",
    "epochs = 10\n",
    "best_val_loss = float('inf')  # Initialize best validation loss to infinity\n",
    "best_val_accuracy = 0.0  # Initialize best validation accuracy to 0\n",
    "\n",
    "for epoch in range(epochs):\n",
    "    print(f\"Epoch {epoch + 1}/{epochs}\")\n",
    "    \n",
    "    # Training phase\n",
    "    train_loss = train_epoch(model, train_loader, optimizer, device, scheduler, loss_fn)\n",
    "    \n",
    "    # Validation phase\n",
    "    val_loss, val_accuracy = eval_model(model, valid_loader, device, loss_fn)  \n",
    "    \n",
    "    print(f\"Train Loss: {train_loss:.4f}, Validation Loss: {val_loss:.4f}, Validation Accuracy: {val_accuracy:.2f}\")\n",
    "\n",
    "    # Save model if validation loss has improved\n",
    "    if val_loss < best_val_loss:\n",
    "        best_val_loss = val_loss\n",
    "        torch.save(model.state_dict(), 'best_model_loss1.pth')  \n",
    "        print(f\"Best model saved based on Validation Loss: {val_loss:.4f}\")\n",
    "\n",
    "    # Save model if validation accuracy has improved\n",
    "    if val_accuracy > best_val_accuracy:\n",
    "        best_val_accuracy = val_accuracy\n",
    "        torch.save(model.state_dict(), 'best_model_accuracy1.pth')\n",
    "        print(f\"Best model saved based on Validation Accuracy: {val_accuracy:.4f}\")\n"
   ]
  },
  {
   "cell_type": "markdown",
   "metadata": {},
   "source": [
    "# TESTING"
   ]
  },
  {
   "cell_type": "code",
   "execution_count": 57,
   "metadata": {},
   "outputs": [],
   "source": [
    "test_dataset = ToxicCommentsDataset(x_test, y_test)\n",
    "\n",
    "test_loader = DataLoader(test_dataset, batch_size=16)"
   ]
  },
  {
   "cell_type": "code",
   "execution_count": 58,
   "metadata": {},
   "outputs": [],
   "source": [
    "def test_model(model, dataloader, device):\n",
    "    model.eval()  # Set model to evaluation mode\n",
    "    correct_predictions = 0\n",
    "    total_samples = 0\n",
    "    predictions = []\n",
    "    x = 0\n",
    "\n",
    "    with torch.no_grad():  # Disable gradient calculation for testing\n",
    "        for batch in dataloader:\n",
    "            # Move inputs to the device (GPU/CPU)\n",
    "            input_ids = batch['input_ids'].to(device)\n",
    "            attention_mask = batch['attention_mask'].to(device)\n",
    "\n",
    "            # Forward pass through the model\n",
    "            outputs = model(input_ids, attention_mask=attention_mask)\n",
    "            preds = torch.sigmoid(outputs.logits.squeeze(1))  # Apply sigmoid to logits\n",
    "            preds = (preds > 0.75).float()  # Convert probabilities to binary (0 or 1)\n",
    "\n",
    "            predictions.extend(preds.cpu().numpy())  # Store predictions\n",
    "\n",
    "            if 'labels' in batch:  # If labels are available for evaluation\n",
    "                labels = batch['labels'].squeeze(1).float().to(device)\n",
    "                correct_predictions += (preds == labels).sum().item()\n",
    "                total_samples += labels.size(0)\n",
    "            print(x)\n",
    "            x=x+1\n",
    "\n",
    "    # Compute accuracy if labels were provided\n",
    "    accuracy = correct_predictions / total_samples if total_samples > 0 else None\n",
    "    \n",
    "    return predictions, accuracy\n"
   ]
  },
  {
   "cell_type": "code",
   "execution_count": null,
   "metadata": {},
   "outputs": [],
   "source": [
    "# Load the best model weights (based on loss or accuracy)\n",
    "model.load_state_dict(torch.load('best_model_accuracy.pth'))  # or 'best_model_loss.pth'"
   ]
  },
  {
   "cell_type": "code",
   "execution_count": null,
   "metadata": {},
   "outputs": [],
   "source": [
    "# Test the model on the test dataset\n",
    "predictions, test_accuracy = test_model(model, test_loader, device)\n",
    "\n",
    "if test_accuracy is not None:\n",
    "    print(f\"Test Accuracy: {test_accuracy:.2f}\")\n",
    "else:\n",
    "    print(\"Test completed. Predictions generated.\")\n"
   ]
  },
  {
   "cell_type": "markdown",
   "metadata": {},
   "source": [
    "## CUSTOM TEST DATA"
   ]
  },
  {
   "cell_type": "code",
   "execution_count": null,
   "metadata": {},
   "outputs": [],
   "source": [
    "# Load pre-trained BERT model\n",
    "device = 'cpu'\n",
    "model = DistilBertForSequenceClassification.from_pretrained(\n",
    "    'distilbert-base-multilingual-cased',\n",
    "    num_labels=1\n",
    ")\n",
    "model.load_state_dict(torch.load('best_model_accuracy_final.pth'))  \n",
    "model.to(device)  "
   ]
  },
  {
   "cell_type": "code",
   "execution_count": 3,
   "metadata": {},
   "outputs": [],
   "source": [
    "def predict_custom_data(model, input_ids, attention_mask, device):\n",
    "    model.eval()  # Set model to evaluation mode\n",
    "\n",
    "    with torch.no_grad():  # Disable gradient calculation for inference\n",
    "        outputs = model(input_ids, attention_mask=attention_mask)\n",
    "        preds = torch.sigmoid(outputs.logits.squeeze(1))  # Apply sigmoid to get probabilities\n",
    "        preds = (preds > 0.5).float()  # Convert probabilities to binary (0 or 1)\n",
    "\n",
    "    return preds.cpu().numpy()  # Return predictions as a numpy array\n"
   ]
  },
  {
   "cell_type": "code",
   "execution_count": 4,
   "metadata": {},
   "outputs": [],
   "source": [
    "# Load the tokenizer\n",
    "tokenizer = DistilBertTokenizer.from_pretrained('distilbert-base-multilingual-cased')"
   ]
  },
  {
   "cell_type": "code",
   "execution_count": 5,
   "metadata": {},
   "outputs": [],
   "source": [
    "custom_texts = [\"please dont hurt me\"] \n",
    "\n",
    "max_length = 128  # \n",
    "\n",
    "encoded_inputs = tokenizer(\n",
    "    custom_texts,\n",
    "    truncation=True,\n",
    "    padding=True,\n",
    "    max_length=max_length,\n",
    "    return_tensors='pt'  \n",
    ")\n",
    "\n",
    "input_ids = encoded_inputs['input_ids']\n",
    "attention_mask = encoded_inputs['attention_mask']\n",
    "\n",
    "input_ids = input_ids.to(device)\n",
    "attention_mask = attention_mask.to(device)\n"
   ]
  },
  {
   "cell_type": "code",
   "execution_count": null,
   "metadata": {},
   "outputs": [],
   "source": [
    "# Predict on custom data\n",
    "predictions = predict_custom_data(model, input_ids, attention_mask, device)\n",
    "\n",
    "# Print the predictions\n",
    "for i, text in enumerate(custom_texts):\n",
    "    print(f\"Text: {text} -> Prediction: {'Dangerous' if predictions[i] == 1 else 'Safe'}\")\n"
   ]
  },
  {
   "cell_type": "code",
   "execution_count": null,
   "metadata": {},
   "outputs": [],
   "source": []
  }
 ],
 "metadata": {
  "kernelspec": {
   "display_name": "Python 3",
   "language": "python",
   "name": "python3"
  },
  "language_info": {
   "codemirror_mode": {
    "name": "ipython",
    "version": 3
   },
   "file_extension": ".py",
   "mimetype": "text/x-python",
   "name": "python",
   "nbconvert_exporter": "python",
   "pygments_lexer": "ipython3",
   "version": "3.12.5"
  }
 },
 "nbformat": 4,
 "nbformat_minor": 2
}
